{
 "cells": [
  {
   "cell_type": "code",
   "execution_count": null,
   "id": "outside-consumption",
   "metadata": {},
   "outputs": [],
   "source": [
    "x=0\n",
    "\n",
    "while x < 5:\n",
    "     print (f'the value of x is{x}')\n",
    "     x=x+1\n",
    "    "
   ]
  },
  {
   "cell_type": "code",
   "execution_count": null,
   "id": "homeless-creator",
   "metadata": {},
   "outputs": [],
   "source": [
    "x=24\n",
    "\n",
    "while x < 5:\n",
    "    print (f'the value of x is{x}')\n",
    "       \n",
    "    x+=1\n",
    "else:\n",
    "    print(\"x is not less than 5\")\n",
    "    \n",
    "     "
   ]
  },
  {
   "cell_type": "code",
   "execution_count": 6,
   "id": "occasional-constant",
   "metadata": {},
   "outputs": [
    {
     "name": "stdout",
     "output_type": "stream",
     "text": [
      "enter table number 24\n",
      "enter the number to which table is to printed 10\n",
      "24 x 1 = 24\n",
      "24 x 2 = 48\n",
      "24 x 3 = 72\n",
      "24 x 4 = 96\n",
      "24 x 5 = 120\n",
      "24 x 6 = 144\n",
      "24 x 7 = 168\n",
      "24 x 8 = 192\n",
      "24 x 9 = 216\n",
      "24 x 10 = 240\n"
     ]
    }
   ],
   "source": [
    "a=int(input(\"enter table number \"))\n",
    "b=int(input(\"enter the number to which table is to printed \"))\n",
    "i=1\n",
    "while i<=b:\n",
    "    print(a,\"x\",i,\"=\",a*i)\n",
    "#     i=i+1\n",
    "    i+=1\n",
    "    "
   ]
  },
  {
   "cell_type": "code",
   "execution_count": 4,
   "id": "downtown-democrat",
   "metadata": {},
   "outputs": [
    {
     "name": "stdout",
     "output_type": "stream",
     "text": [
      "enter table number24\n",
      "enter the number to which table is to printed10\n",
      "24 x 1.0 = 24.0\n",
      "24 x 2.0 = 48.0\n",
      "24 x 3.0 = 72.0\n",
      "24 x 4.0 = 96.0\n",
      "24 x 5.0 = 120.0\n",
      "24 x 6.0 = 144.0\n",
      "24 x 7.0 = 168.0\n",
      "24 x 8.0 = 192.0\n",
      "24 x 9.0 = 216.0\n",
      "24 x 10.0 = 240.0\n",
      "i is less than 250\n"
     ]
    }
   ],
   "source": [
    "a=int(input(\"enter table number\"))\n",
    "b=int(input(\"enter the number to which table is to printed\"))\n",
    "i=1.\n",
    "while i<=b:\n",
    "    print(a,\"x\",i,\"=\",a*i)\n",
    "    i=i+1.\n",
    "else:\n",
    "    print(\"i is less than 250\")\n",
    "    "
   ]
  },
  {
   "cell_type": "code",
   "execution_count": 2,
   "id": "individual-import",
   "metadata": {},
   "outputs": [
    {
     "name": "stdout",
     "output_type": "stream",
     "text": [
      "end of my script\n"
     ]
    }
   ],
   "source": [
    "x=[1,2,3]\n",
    "for item in x:\n",
    "    pass\n",
    "print('end of my script')"
   ]
  },
  {
   "cell_type": "code",
   "execution_count": 7,
   "id": "alpha-relation",
   "metadata": {},
   "outputs": [],
   "source": [
    "mystring='vikram'\n"
   ]
  },
  {
   "cell_type": "code",
   "execution_count": 9,
   "id": "discrete-resident",
   "metadata": {},
   "outputs": [
    {
     "name": "stdout",
     "output_type": "stream",
     "text": [
      "v\n",
      "i\n",
      "k\n",
      "r\n",
      "a\n",
      "m\n"
     ]
    }
   ],
   "source": [
    "for letter in mystring:\n",
    "    print(letter)"
   ]
  },
  {
   "cell_type": "code",
   "execution_count": 16,
   "id": "gothic-damage",
   "metadata": {},
   "outputs": [],
   "source": [
    "mystring='vikram'\n",
    "\n"
   ]
  },
  {
   "cell_type": "code",
   "execution_count": 23,
   "id": "confidential-surveillance",
   "metadata": {},
   "outputs": [
    {
     "name": "stdout",
     "output_type": "stream",
     "text": [
      "v\n",
      "i\n",
      "k\n",
      "r\n",
      "m\n"
     ]
    }
   ],
   "source": [
    "for letter in mystring:\n",
    "    if letter=='a':\n",
    "       continue \n",
    "    print(letter)\n"
   ]
  },
  {
   "cell_type": "code",
   "execution_count": 28,
   "id": "anonymous-mercy",
   "metadata": {},
   "outputs": [
    {
     "name": "stdout",
     "output_type": "stream",
     "text": [
      "v\n",
      "i\n",
      "k\n",
      "r\n"
     ]
    }
   ],
   "source": [
    "mystring='vikram'\n",
    "for letter in mystring:\n",
    "    if letter=='a':\n",
    "       break\n",
    "    print(letter)\n"
   ]
  },
  {
   "cell_type": "code",
   "execution_count": 29,
   "id": "starting-swaziland",
   "metadata": {},
   "outputs": [
    {
     "name": "stdout",
     "output_type": "stream",
     "text": [
      "0\n",
      "1\n",
      "2\n",
      "3\n",
      "4\n"
     ]
    }
   ],
   "source": [
    "x=0\n",
    "while x <5:\n",
    "    print(x)\n",
    "    x+=1"
   ]
  },
  {
   "cell_type": "code",
   "execution_count": 30,
   "id": "great-justice",
   "metadata": {},
   "outputs": [
    {
     "name": "stdout",
     "output_type": "stream",
     "text": [
      "0\n",
      "1\n"
     ]
    }
   ],
   "source": [
    "x=0\n",
    "while x <5:\n",
    "    if x==2:\n",
    "        break\n",
    "    print(x)\n",
    "    x+=1"
   ]
  },
  {
   "cell_type": "code",
   "execution_count": null,
   "id": "charitable-thinking",
   "metadata": {},
   "outputs": [],
   "source": []
  }
 ],
 "metadata": {
  "kernelspec": {
   "display_name": "Python 3",
   "language": "python",
   "name": "python3"
  },
  "language_info": {
   "codemirror_mode": {
    "name": "ipython",
    "version": 3
   },
   "file_extension": ".py",
   "mimetype": "text/x-python",
   "name": "python",
   "nbconvert_exporter": "python",
   "pygments_lexer": "ipython3",
   "version": "3.9.2"
  }
 },
 "nbformat": 4,
 "nbformat_minor": 5
}
