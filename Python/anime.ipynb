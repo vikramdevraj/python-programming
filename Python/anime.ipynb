{
 "cells": [
  {
   "cell_type": "code",
   "execution_count": null,
   "id": "european-queens",
   "metadata": {},
   "outputs": [],
   "source": [
    "import requests\n",
    "from pySmartDL import SmartDL\n",
    "import sys\n",
    "import os\n",
    "from clint.textui import progress\n",
    "from bs4 import BeautifulSoup\n",
    "def download(url,dest):\n",
    "    obj=SmartDL(url, dest)\n",
    "    obj.start()\n",
    "    return\n",
    "u=input(\"Enter URL of first episode> \" )\n",
    "url=u[:-1]\n",
    "try:\n",
    "    rq=requests.get(url)\n",
    "    if rq.status_code == 200:\n",
    "        f=input(\"Enter episode to start with> \")\n",
    "        l=input(\"Enter episode to end with> \")\n",
    "        n=input(\"Enter name to be saved as> \")\n",
    "        d=input(\"Enter full path to destination folder> \")\n",
    "        s=input(\"Switch off when downloaded?(y/n) \")\n",
    "except:\n",
    "    print (\"Wrong URL dude\")\n",
    "    sys.exit()\n",
    "for i in range(int(f),int(l)+1):\n",
    "    u=url+str(i)\n",
    "    r=requests.get(u)\n",
    "    soup=BeautifulSoup(r.text,'html.parser')\n",
    "    links=soup.find_all(target='_blank')\n",
    "    for link in links:\n",
    "        l=link.get('href')\n",
    "        if 'download' in l:\n",
    "            r1=requests.get(l)\n",
    "            s1=BeautifulSoup(r1.text,'html.parser')\n",
    "            l1=s1.find_all('a')\n",
    "            for l2 in l1:\n",
    "                l3=l2.get('href')\n",
    "                if 'cdnfile' in l3:\n",
    "                    print(l3)\n",
    "                    des=d+'/'+n+str(i)+'.mp4'\n",
    "                    print (des)\n",
    "                    download(l3,des)\n",
    "if s == \"y\":\n",
    "    if os.name == 'nt':\n",
    "        os.system(\"shutdown /s\")\n",
    "    else:\n",
    "        os.system(\"poweroff\")"
   ]
  }
 ],
 "metadata": {
  "kernelspec": {
   "display_name": "Python 3",
   "language": "python",
   "name": "python3"
  },
  "language_info": {
   "codemirror_mode": {
    "name": "ipython",
    "version": 3
   },
   "file_extension": ".py",
   "mimetype": "text/x-python",
   "name": "python",
   "nbconvert_exporter": "python",
   "pygments_lexer": "ipython3",
   "version": "3.9.2"
  }
 },
 "nbformat": 4,
 "nbformat_minor": 5
}
