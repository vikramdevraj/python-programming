{
 "cells": [
  {
   "cell_type": "code",
   "execution_count": null,
   "id": "sharp-kingdom",
   "metadata": {},
   "outputs": [],
   "source": [
    "# find even no:\n",
    "def myfunc(*args):\n",
    "    even=[]\n",
    "    for n in args:\n",
    "        if n%2==0:\n",
    "            even.append(n)\n",
    "        else:\n",
    "            pass\n",
    "    return even\n",
    "myfunc(5,6,7,8)\n"
   ]
  },
  {
   "cell_type": "code",
   "execution_count": null,
   "id": "competent-stable",
   "metadata": {},
   "outputs": [],
   "source": [
    "def myfunc(st):  # even in upper or lower in odd \n",
    "    operations = (str.lower, str.upper)\n",
    "    return ''.join(operations[i%2](x) for i, x in enumerate(st))\n",
    "\n",
    "print(myfunc('devil'))"
   ]
  },
  {
   "cell_type": "code",
   "execution_count": null,
   "id": "featured-evaluation",
   "metadata": {},
   "outputs": [],
   "source": [
    "def upLow(s):  #2\n",
    "    return \"\".join(c.lower() if i&1 else c.upper() for i,c in enumerate(s))\n",
    "upLow(\"HelloWorld\")"
   ]
  },
  {
   "cell_type": "markdown",
   "id": "presidential-israeli",
   "metadata": {},
   "source": [
    "# method and function problem"
   ]
  },
  {
   "cell_type": "markdown",
   "id": "straight-absorption",
   "metadata": {},
   "source": [
    "Q:LESSER OF TWO EVENS: Write a function that returns the lesser of two given numbers if both numbers are even, but returns the greater if one or both numbers are odd\n",
    "\n",
    "lesser_of_two_evens(2,4) --> 2\n",
    "lesser_of_two_evens(2,5) --> 5"
   ]
  },
  {
   "cell_type": "code",
   "execution_count": null,
   "id": "representative-tours",
   "metadata": {},
   "outputs": [],
   "source": [
    "def lesser_of_two_even(a,b):\n",
    "    if a%2==0 and b%2==0:\n",
    "        if a<b:\n",
    "            result=a\n",
    "        else:\n",
    "            result=b\n",
    "    else:\n",
    "            #one or both are odd\n",
    "            if a>b:\n",
    "                result=a\n",
    "            else:\n",
    "                result=b\n",
    "    return result"
   ]
  },
  {
   "cell_type": "code",
   "execution_count": null,
   "id": "approved-national",
   "metadata": {},
   "outputs": [],
   "source": [
    "lesser_of_two_even(2,4)"
   ]
  },
  {
   "cell_type": "code",
   "execution_count": null,
   "id": "suspected-presence",
   "metadata": {},
   "outputs": [],
   "source": [
    "lesser_of_two_even(2,5)"
   ]
  },
  {
   "cell_type": "code",
   "execution_count": null,
   "id": "accurate-forth",
   "metadata": {},
   "outputs": [],
   "source": [
    "min(80,59)"
   ]
  },
  {
   "cell_type": "code",
   "execution_count": null,
   "id": "injured-tuition",
   "metadata": {},
   "outputs": [],
   "source": [
    "max(110,117)"
   ]
  },
  {
   "cell_type": "code",
   "execution_count": null,
   "id": "disturbed-prior",
   "metadata": {},
   "outputs": [],
   "source": [
    "def lesser_of_two_even(a,b):  #m2\n",
    "    if a%2==0 and b%2==0:\n",
    "        #both are even\n",
    "        result=min(a,b)\n",
    "    else:\n",
    "            #one or both are odd\n",
    "            result=max(a,b)\n",
    "    return result"
   ]
  },
  {
   "cell_type": "code",
   "execution_count": null,
   "id": "detailed-alberta",
   "metadata": {},
   "outputs": [],
   "source": [
    "lesser_of_two_even(4,5)"
   ]
  },
  {
   "cell_type": "markdown",
   "id": "rental-burden",
   "metadata": {},
   "source": [
    "# Ques: ANIMAL CRACKERS: Write a function takes a two-word string and returns True if both words begin with same letter\n",
    "animal_crackers('Levelheaded Llama') --> True\n",
    "animal_crackers('Crazy Kangaroo') --> False"
   ]
  },
  {
   "cell_type": "code",
   "execution_count": 28,
   "id": "ordered-efficiency",
   "metadata": {},
   "outputs": [],
   "source": [
    "def animal_crackers(text):\n",
    "    wordlist=text.split()\n",
    "    print(wordlist)\n",
    "    \n",
    "    first=wordlist[0]\n",
    "    second=wordlist[1]\n",
    "    \n",
    "    return first[0] == second[1]"
   ]
  },
  {
   "cell_type": "code",
   "execution_count": 29,
   "id": "objective-rebel",
   "metadata": {},
   "outputs": [
    {
     "name": "stdout",
     "output_type": "stream",
     "text": [
      "['Levelheaded', 'Llama']\n"
     ]
    },
    {
     "data": {
      "text/plain": [
       "False"
      ]
     },
     "execution_count": 29,
     "metadata": {},
     "output_type": "execute_result"
    }
   ],
   "source": [
    "animal_crackers('Levelheaded Llama')"
   ]
  },
  {
   "cell_type": "code",
   "execution_count": 24,
   "id": "available-clock",
   "metadata": {},
   "outputs": [],
   "source": [
    "\n",
    "def animal_cracker(text):\n",
    "    splitstring= text.split()\n",
    "    if (splitstring[0][0]==splitstring[1][0]):\n",
    "        return True\n",
    "    else:\n",
    "        return False"
   ]
  },
  {
   "cell_type": "code",
   "execution_count": 30,
   "id": "psychological-cancer",
   "metadata": {},
   "outputs": [
    {
     "name": "stdout",
     "output_type": "stream",
     "text": [
      "['Crazy', 'Kangaroo']\n"
     ]
    },
    {
     "data": {
      "text/plain": [
       "False"
      ]
     },
     "execution_count": 30,
     "metadata": {},
     "output_type": "execute_result"
    }
   ],
   "source": [
    "animal_cracker('Levelheaded Llama')\n",
    "animal_crackers('Crazy Kangaroo') "
   ]
  },
  {
   "cell_type": "code",
   "execution_count": 32,
   "id": "standard-frederick",
   "metadata": {},
   "outputs": [
    {
     "name": "stdout",
     "output_type": "stream",
     "text": [
      "['Crazy', 'Kangaroo']\n"
     ]
    },
    {
     "data": {
      "text/plain": [
       "False"
      ]
     },
     "execution_count": 32,
     "metadata": {},
     "output_type": "execute_result"
    }
   ],
   "source": [
    "animal_crackers('Crazy Kangaroo')"
   ]
  },
  {
   "cell_type": "code",
   "execution_count": 33,
   "id": "protected-reform",
   "metadata": {},
   "outputs": [
    {
     "ename": "SyntaxError",
     "evalue": "invalid syntax (<ipython-input-33-581a80db5832>, line 1)",
     "output_type": "error",
     "traceback": [
      "\u001b[1;36m  File \u001b[1;32m\"<ipython-input-33-581a80db5832>\"\u001b[1;36m, line \u001b[1;32m1\u001b[0m\n\u001b[1;33m    for:\u001b[0m\n\u001b[1;37m       ^\u001b[0m\n\u001b[1;31mSyntaxError\u001b[0m\u001b[1;31m:\u001b[0m invalid syntax\n"
     ]
    }
   ],
   "source": [
    "#for else\n",
    "else:\n",
    "    pass"
   ]
  },
  {
   "cell_type": "code",
   "execution_count": null,
   "id": "damaged-water",
   "metadata": {},
   "outputs": [],
   "source": []
  }
 ],
 "metadata": {
  "kernelspec": {
   "display_name": "Python 3",
   "language": "python",
   "name": "python3"
  },
  "language_info": {
   "codemirror_mode": {
    "name": "ipython",
    "version": 3
   },
   "file_extension": ".py",
   "mimetype": "text/x-python",
   "name": "python",
   "nbconvert_exporter": "python",
   "pygments_lexer": "ipython3",
   "version": "3.9.2"
  }
 },
 "nbformat": 4,
 "nbformat_minor": 5
}
