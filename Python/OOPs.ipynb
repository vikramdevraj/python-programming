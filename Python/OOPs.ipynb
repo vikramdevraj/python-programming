{
 "cells": [
  {
   "cell_type": "code",
   "execution_count": 16,
   "id": "dated-validation",
   "metadata": {},
   "outputs": [],
   "source": [
    "mylist=[1,2,3]"
   ]
  },
  {
   "cell_type": "code",
   "execution_count": 17,
   "id": "missing-failure",
   "metadata": {},
   "outputs": [],
   "source": [
    "myset=set()"
   ]
  },
  {
   "cell_type": "code",
   "execution_count": 18,
   "id": "public-regard",
   "metadata": {},
   "outputs": [
    {
     "data": {
      "text/plain": [
       "set"
      ]
     },
     "execution_count": 18,
     "metadata": {},
     "output_type": "execute_result"
    }
   ],
   "source": [
    "type(myset)"
   ]
  },
  {
   "cell_type": "code",
   "execution_count": 19,
   "id": "accepting-funds",
   "metadata": {},
   "outputs": [
    {
     "data": {
      "text/plain": [
       "list"
      ]
     },
     "execution_count": 19,
     "metadata": {},
     "output_type": "execute_result"
    }
   ],
   "source": [
    "type(mylist)"
   ]
  },
  {
   "cell_type": "code",
   "execution_count": 21,
   "id": "respiratory-diana",
   "metadata": {},
   "outputs": [],
   "source": [
    "class sample():\n",
    "    pass"
   ]
  },
  {
   "cell_type": "code",
   "execution_count": 22,
   "id": "cardiovascular-replication",
   "metadata": {},
   "outputs": [],
   "source": [
    "my_sample=sample()"
   ]
  },
  {
   "cell_type": "code",
   "execution_count": 23,
   "id": "described-graham",
   "metadata": {},
   "outputs": [
    {
     "data": {
      "text/plain": [
       "__main__.sample"
      ]
     },
     "execution_count": 23,
     "metadata": {},
     "output_type": "execute_result"
    }
   ],
   "source": [
    "type(my_sample)"
   ]
  },
  {
   "cell_type": "code",
   "execution_count": 24,
   "id": "logical-editing",
   "metadata": {},
   "outputs": [],
   "source": [
    "class Dog():\n",
    "    \n",
    "    def __init__(self,breed):\n",
    "        \n",
    "        self.breed=breed"
   ]
  },
  {
   "cell_type": "code",
   "execution_count": 26,
   "id": "useful-october",
   "metadata": {},
   "outputs": [],
   "source": [
    "my_dog=Dog(breed='GSD')"
   ]
  },
  {
   "cell_type": "code",
   "execution_count": 27,
   "id": "random-victorian",
   "metadata": {},
   "outputs": [
    {
     "data": {
      "text/plain": [
       "__main__.Dog"
      ]
     },
     "execution_count": 27,
     "metadata": {},
     "output_type": "execute_result"
    }
   ],
   "source": [
    "type(my_dog)"
   ]
  },
  {
   "cell_type": "code",
   "execution_count": 28,
   "id": "increased-rider",
   "metadata": {},
   "outputs": [
    {
     "data": {
      "text/plain": [
       "'GSD'"
      ]
     },
     "execution_count": 28,
     "metadata": {},
     "output_type": "execute_result"
    }
   ],
   "source": [
    " my_dog.breed"
   ]
  },
  {
   "cell_type": "code",
   "execution_count": 29,
   "id": "iraqi-plane",
   "metadata": {},
   "outputs": [],
   "source": [
    "class Dog():\n",
    "    \n",
    "    def __init__(self,mybreed):\n",
    "        \n",
    "        #attribute\n",
    "        #we take in the argument\n",
    "        #assign self.attribute_name\n",
    "        \n",
    "        self.breed = mybreed"
   ]
  },
  {
   "cell_type": "code",
   "execution_count": 30,
   "id": "stuck-weather",
   "metadata": {},
   "outputs": [],
   "source": [
    "my_dog= Dog(mybreed=\"GSD\")"
   ]
  },
  {
   "cell_type": "code",
   "execution_count": 31,
   "id": "finished-surface",
   "metadata": {},
   "outputs": [
    {
     "data": {
      "text/plain": [
       "'GSD'"
      ]
     },
     "execution_count": 31,
     "metadata": {},
     "output_type": "execute_result"
    }
   ],
   "source": [
    "my_dog.breed"
   ]
  },
  {
   "cell_type": "code",
   "execution_count": 1,
   "id": "polyphonic-muslim",
   "metadata": {},
   "outputs": [],
   "source": [
    "class Dog():\n",
    "    \n",
    "    def __init__(self,mybreed,name,spots):\n",
    "    \n",
    "        \n",
    "        self.breed = mybreed\n",
    "        self.name=name\n",
    "        self.spots=spots#boolean\n",
    "        "
   ]
  },
  {
   "cell_type": "code",
   "execution_count": 2,
   "id": "violent-daniel",
   "metadata": {},
   "outputs": [],
   "source": [
    "my_dog=Dog(mybreed='GSD',name='rocky',spots=False)"
   ]
  },
  {
   "cell_type": "code",
   "execution_count": 3,
   "id": "understanding-overall",
   "metadata": {},
   "outputs": [
    {
     "data": {
      "text/plain": [
       "False"
      ]
     },
     "execution_count": 3,
     "metadata": {},
     "output_type": "execute_result"
    }
   ],
   "source": [
    "my_dog.spots"
   ]
  },
  {
   "cell_type": "code",
   "execution_count": 4,
   "id": "mighty-poland",
   "metadata": {},
   "outputs": [
    {
     "data": {
      "text/plain": [
       "'GSD'"
      ]
     },
     "execution_count": 4,
     "metadata": {},
     "output_type": "execute_result"
    }
   ],
   "source": [
    "my_dog.breed"
   ]
  },
  {
   "cell_type": "code",
   "execution_count": 5,
   "id": "strategic-admission",
   "metadata": {},
   "outputs": [
    {
     "data": {
      "text/plain": [
       "'rocky'"
      ]
     },
     "execution_count": 5,
     "metadata": {},
     "output_type": "execute_result"
    }
   ],
   "source": [
    "my_dog.name"
   ]
  },
  {
   "cell_type": "code",
   "execution_count": 10,
   "id": "classified-uncle",
   "metadata": {},
   "outputs": [],
   "source": [
    "class Dog():\n",
    "    \n",
    "    #Class object Attribute\n",
    "    #Same for any instance of a class\n",
    "    species='mammal'\n",
    "    \n",
    "    def __init__(self,mybreed,name,spots):\n",
    "        \n",
    "        #attribute\n",
    "        #we take in the argument\n",
    "        #assign self.attribute_name\n",
    "        \n",
    "        self.breed = mybreed\n",
    "        self.name=name\n",
    "        self.spots=spots#boolean"
   ]
  },
  {
   "cell_type": "code",
   "execution_count": 11,
   "id": "proved-adelaide",
   "metadata": {},
   "outputs": [],
   "source": [
    "my_dog=Dog(mybreed='GSD',name='rocky',spots=False)"
   ]
  },
  {
   "cell_type": "code",
   "execution_count": 12,
   "id": "played-brake",
   "metadata": {},
   "outputs": [
    {
     "data": {
      "text/plain": [
       "'mammal'"
      ]
     },
     "execution_count": 12,
     "metadata": {},
     "output_type": "execute_result"
    }
   ],
   "source": [
    "my_dog.species"
   ]
  },
  {
   "cell_type": "code",
   "execution_count": 13,
   "id": "attractive-casting",
   "metadata": {},
   "outputs": [
    {
     "data": {
      "text/plain": [
       "'GSD'"
      ]
     },
     "execution_count": 13,
     "metadata": {},
     "output_type": "execute_result"
    }
   ],
   "source": [
    "my_dog.breed"
   ]
  },
  {
   "cell_type": "code",
   "execution_count": 14,
   "id": "opposed-junction",
   "metadata": {},
   "outputs": [
    {
     "data": {
      "text/plain": [
       "'rocky'"
      ]
     },
     "execution_count": 14,
     "metadata": {},
     "output_type": "execute_result"
    }
   ],
   "source": [
    "my_dog.name"
   ]
  },
  {
   "cell_type": "code",
   "execution_count": 24,
   "id": "viral-bermuda",
   "metadata": {},
   "outputs": [],
   "source": [
    "class Dog():\n",
    "    \n",
    "    #Class object Attribute\n",
    "    #Same for any instance of a class\n",
    "    species='mammal'\n",
    "    \n",
    "    def __init__(self,mybreed,name):\n",
    "        \n",
    "        #attribute\n",
    "        #we take in the argument\n",
    "        #assign self.attribute_name\n",
    "        \n",
    "        self.breed = mybreed\n",
    "        self.name=name\n",
    "        \n",
    "    #operations/Actions....> methods\n",
    "    def bark(self):\n",
    "        print(\"WOOF! My name is {}\".format(self.name))"
   ]
  },
  {
   "cell_type": "code",
   "execution_count": 25,
   "id": "hairy-thermal",
   "metadata": {},
   "outputs": [],
   "source": [
    "my_dog=Dog(\"GSD\",\"Rocky\")"
   ]
  },
  {
   "cell_type": "code",
   "execution_count": 26,
   "id": "conventional-bacteria",
   "metadata": {},
   "outputs": [
    {
     "name": "stdout",
     "output_type": "stream",
     "text": [
      "WOOF! My name is Rocky\n"
     ]
    }
   ],
   "source": [
    "my_dog.bark()"
   ]
  },
  {
   "cell_type": "code",
   "execution_count": 29,
   "id": "convertible-carry",
   "metadata": {},
   "outputs": [],
   "source": [
    "class Dog():\n",
    "    \n",
    "    #Class object Attribute\n",
    "    #Same for any instance of a class\n",
    "    species='mammal'\n",
    "    \n",
    "    def __init__(self,mybreed,name):\n",
    "        \n",
    "        #attribute\n",
    "        #we take in the argument\n",
    "        #assign self.attribute_name\n",
    "        \n",
    "        self.breed = mybreed\n",
    "        self.name=name\n",
    "        \n",
    "    #operations/Actions....> methods\n",
    "    def bark(self,number):\n",
    "        print(\"WOOF! My name is{} and  the number is{}\".format(self.name,number))\n",
    "        \n",
    "my_dog=Dog(\"GSD\",\"Rocky\")\n"
   ]
  },
  {
   "cell_type": "code",
   "execution_count": 31,
   "id": "alone-romantic",
   "metadata": {},
   "outputs": [
    {
     "name": "stdout",
     "output_type": "stream",
     "text": [
      "WOOF! My name isRocky and  the number is10\n"
     ]
    }
   ],
   "source": [
    "my_dog.bark(10)"
   ]
  },
  {
   "cell_type": "code",
   "execution_count": null,
   "id": "black-prevention",
   "metadata": {},
   "outputs": [],
   "source": []
  },
  {
   "cell_type": "code",
   "execution_count": null,
   "id": "apart-receiver",
   "metadata": {},
   "outputs": [],
   "source": []
  },
  {
   "cell_type": "code",
   "execution_count": 59,
   "id": "detailed-fantasy",
   "metadata": {},
   "outputs": [],
   "source": [
    "class Circle():\n",
    "    # class object attribute\n",
    "    pi=3.14\n",
    "    \n",
    "    def __init__ (self,radius=1):\n",
    "        \n",
    "        self.radius=radius\n",
    "        self.area=radius*radius*self.pi  #or Circle.pi\n",
    "        \n",
    "        #method\n",
    "        \n",
    "    def get_circumference(self):\n",
    "            return self.radius *self.pi*2  #Circle.pi"
   ]
  },
  {
   "cell_type": "code",
   "execution_count": 60,
   "id": "pressing-value",
   "metadata": {},
   "outputs": [],
   "source": [
    "my_circle=Circle(30)"
   ]
  },
  {
   "cell_type": "code",
   "execution_count": 61,
   "id": "divine-juice",
   "metadata": {},
   "outputs": [
    {
     "data": {
      "text/plain": [
       "3.14"
      ]
     },
     "execution_count": 61,
     "metadata": {},
     "output_type": "execute_result"
    }
   ],
   "source": [
    "my_circle.pi"
   ]
  },
  {
   "cell_type": "code",
   "execution_count": 62,
   "id": "helpful-school",
   "metadata": {},
   "outputs": [
    {
     "data": {
      "text/plain": [
       "30"
      ]
     },
     "execution_count": 62,
     "metadata": {},
     "output_type": "execute_result"
    }
   ],
   "source": [
    "my_circle.radius"
   ]
  },
  {
   "cell_type": "code",
   "execution_count": 63,
   "id": "painful-champion",
   "metadata": {},
   "outputs": [
    {
     "data": {
      "text/plain": [
       "2826.0"
      ]
     },
     "execution_count": 63,
     "metadata": {},
     "output_type": "execute_result"
    }
   ],
   "source": [
    "my_circle.area"
   ]
  },
  {
   "cell_type": "code",
   "execution_count": 64,
   "id": "moved-attendance",
   "metadata": {},
   "outputs": [
    {
     "data": {
      "text/plain": [
       "188.4"
      ]
     },
     "execution_count": 64,
     "metadata": {},
     "output_type": "execute_result"
    }
   ],
   "source": [
    "my_circle.get_circumference()"
   ]
  },
  {
   "cell_type": "markdown",
   "id": "alone-savage",
   "metadata": {},
   "source": [
    "# Inhertance & polymorphism (part-3)"
   ]
  },
  {
   "cell_type": "code",
   "execution_count": 67,
   "id": "dimensional-accommodation",
   "metadata": {},
   "outputs": [
    {
     "name": "stdout",
     "output_type": "stream",
     "text": [
      "ANIMAL CREATED\n"
     ]
    }
   ],
   "source": [
    "class Animal():\n",
    "    def __init__(self):\n",
    "        print(\"ANIMAL CREATED\")\n",
    "        \n",
    "my_animal=Animal()\n",
    "        "
   ]
  },
  {
   "cell_type": "code",
   "execution_count": 68,
   "id": "invalid-builder",
   "metadata": {},
   "outputs": [
    {
     "name": "stdout",
     "output_type": "stream",
     "text": [
      "ANIMAL CREATED\n"
     ]
    }
   ],
   "source": [
    "class Animal():\n",
    "    def __init__(self):\n",
    "        print(\"ANIMAL CREATED\")\n",
    "        \n",
    "    def who_am_i(Animal):\n",
    "        print('i am an animal')\n",
    "        \n",
    "    def eat(self):\n",
    "        print('i am eating')\n",
    "        \n",
    "my_animal=Animal()\n",
    "        "
   ]
  },
  {
   "cell_type": "code",
   "execution_count": 70,
   "id": "addressed-cleveland",
   "metadata": {},
   "outputs": [
    {
     "name": "stdout",
     "output_type": "stream",
     "text": [
      "i am eating\n"
     ]
    }
   ],
   "source": [
    "my_animal.eat()"
   ]
  },
  {
   "cell_type": "code",
   "execution_count": 71,
   "id": "original-monthly",
   "metadata": {},
   "outputs": [
    {
     "name": "stdout",
     "output_type": "stream",
     "text": [
      "i am an animal\n"
     ]
    }
   ],
   "source": [
    "my_animal.who_am_i()"
   ]
  },
  {
   "cell_type": "code",
   "execution_count": 72,
   "id": "beautiful-premiere",
   "metadata": {},
   "outputs": [],
   "source": [
    "class Animal():\n",
    "    def __init__(self):\n",
    "        print(\"ANIMAL CREATED\")\n",
    "        \n",
    "    def who_am_i(Animal):\n",
    "        print('i am an animal')\n",
    "        \n",
    "    def eat(self):\n",
    "        print('i am eating')\n",
    "        \n",
    "\n",
    "        "
   ]
  },
  {
   "cell_type": "code",
   "execution_count": 98,
   "id": "average-rough",
   "metadata": {},
   "outputs": [],
   "source": [
    "class Dog(Animal):\n",
    "    \n",
    "    def __init__ (self):\n",
    "        Animal.__init__(self)\n",
    "        print(\"Dog Created\")\n",
    "        \n",
    "    #def who_am_i (self):\n",
    "        #print('i am a dog')\n",
    "    def eat(self):\n",
    "        print('i am dog and eating')\n",
    "        \n",
    "    def bark(self):\n",
    "        print('WOOF!')\n",
    "    \n",
    "    "
   ]
  },
  {
   "cell_type": "code",
   "execution_count": 99,
   "id": "racial-medicaid",
   "metadata": {},
   "outputs": [
    {
     "name": "stdout",
     "output_type": "stream",
     "text": [
      "ANIMAL CREATED\n",
      "Dog Created\n"
     ]
    }
   ],
   "source": [
    "mydog=Dog()"
   ]
  },
  {
   "cell_type": "code",
   "execution_count": 100,
   "id": "engaging-ethernet",
   "metadata": {},
   "outputs": [
    {
     "name": "stdout",
     "output_type": "stream",
     "text": [
      "i am dog and eating\n"
     ]
    }
   ],
   "source": [
    " mydog.eat()"
   ]
  },
  {
   "cell_type": "code",
   "execution_count": 101,
   "id": "express-sympathy",
   "metadata": {},
   "outputs": [
    {
     "name": "stdout",
     "output_type": "stream",
     "text": [
      "i am an animal\n"
     ]
    }
   ],
   "source": [
    "mydog.who_am_i()"
   ]
  },
  {
   "cell_type": "code",
   "execution_count": 102,
   "id": "taken-community",
   "metadata": {},
   "outputs": [
    {
     "name": "stdout",
     "output_type": "stream",
     "text": [
      "i am an animal\n"
     ]
    }
   ],
   "source": [
    "mydog.who_am_i()"
   ]
  },
  {
   "cell_type": "code",
   "execution_count": 104,
   "id": "moved-bahamas",
   "metadata": {},
   "outputs": [
    {
     "name": "stdout",
     "output_type": "stream",
     "text": [
      "WOOF!\n"
     ]
    }
   ],
   "source": [
    "mydog.bark()"
   ]
  },
  {
   "cell_type": "code",
   "execution_count": 105,
   "id": "employed-consultancy",
   "metadata": {},
   "outputs": [
    {
     "name": "stdout",
     "output_type": "stream",
     "text": [
      "i am dog and eating\n"
     ]
    }
   ],
   "source": [
    "mydog.eat()"
   ]
  },
  {
   "cell_type": "markdown",
   "id": "accepting-azerbaijan",
   "metadata": {},
   "source": [
    "# polymorphism"
   ]
  },
  {
   "cell_type": "code",
   "execution_count": 120,
   "id": "collaborative-picking",
   "metadata": {},
   "outputs": [],
   "source": [
    "class Dog():\n",
    "    def __init__(self,name):\n",
    "        self.name=name\n",
    "        \n",
    "    def speak (self):\n",
    "        return self.name + \" says WOOF!\"\n",
    "        \n",
    "        "
   ]
  },
  {
   "cell_type": "code",
   "execution_count": 121,
   "id": "related-execution",
   "metadata": {},
   "outputs": [],
   "source": [
    "class Cat():\n",
    "    def __init__(self,name):\n",
    "        self.name=name\n",
    "        \n",
    "    def speak (self):\n",
    "        return self.name + \" says MEOW!\"\n",
    "        \n",
    "        "
   ]
  },
  {
   "cell_type": "code",
   "execution_count": 122,
   "id": "regular-flashing",
   "metadata": {},
   "outputs": [],
   "source": [
    "rocky=Dog(\"rocky\")\n",
    "pussy=Cat(\"pussy\")"
   ]
  },
  {
   "cell_type": "code",
   "execution_count": 123,
   "id": "underlying-responsibility",
   "metadata": {},
   "outputs": [
    {
     "name": "stdout",
     "output_type": "stream",
     "text": [
      "rocky says WOOF!\n"
     ]
    }
   ],
   "source": [
    "print(rocky.speak())"
   ]
  },
  {
   "cell_type": "code",
   "execution_count": 124,
   "id": "postal-grounds",
   "metadata": {},
   "outputs": [
    {
     "name": "stdout",
     "output_type": "stream",
     "text": [
      "pussy says MEOW!\n"
     ]
    }
   ],
   "source": [
    "print(pussy.speak())"
   ]
  },
  {
   "cell_type": "code",
   "execution_count": 127,
   "id": "specific-reynolds",
   "metadata": {},
   "outputs": [
    {
     "name": "stdout",
     "output_type": "stream",
     "text": [
      "<class '__main__.Dog'>\n",
      "<class 'method'>\n",
      "<class '__main__.Cat'>\n",
      "<class 'method'>\n"
     ]
    }
   ],
   "source": [
    "for pet in [rocky,pussy]:\n",
    "    print(type(pet))\n",
    "    print(type(pet.speak))"
   ]
  },
  {
   "cell_type": "code",
   "execution_count": 128,
   "id": "popular-turkey",
   "metadata": {},
   "outputs": [],
   "source": [
    "def pet_speak(pet):\n",
    "    print(pet.speak())\n",
    "    "
   ]
  },
  {
   "cell_type": "code",
   "execution_count": 129,
   "id": "involved-concert",
   "metadata": {},
   "outputs": [
    {
     "name": "stdout",
     "output_type": "stream",
     "text": [
      "rocky says WOOF!\n"
     ]
    }
   ],
   "source": [
    "pet_speak(rocky)"
   ]
  },
  {
   "cell_type": "code",
   "execution_count": 130,
   "id": "under-heritage",
   "metadata": {},
   "outputs": [
    {
     "name": "stdout",
     "output_type": "stream",
     "text": [
      "pussy says MEOW!\n"
     ]
    }
   ],
   "source": [
    "pet_speak(pussy)"
   ]
  },
  {
   "cell_type": "code",
   "execution_count": 134,
   "id": "regulation-convergence",
   "metadata": {},
   "outputs": [],
   "source": [
    "class Animal():\n",
    "    def __init__(self,name):\n",
    "        self.name=name\n",
    "        \n",
    "    def speak(self):\n",
    "        raise NotImplementedError(\"Subclass must be implement this abstract method\")\n",
    "        "
   ]
  },
  {
   "cell_type": "code",
   "execution_count": 155,
   "id": "brief-timer",
   "metadata": {},
   "outputs": [],
   "source": [
    "class Dog(Animal):\n",
    "    def speak(self):\n",
    "        return self.name+ \" says Woof\""
   ]
  },
  {
   "cell_type": "code",
   "execution_count": 156,
   "id": "typical-museum",
   "metadata": {},
   "outputs": [],
   "source": [
    "class Cat(Animal):\n",
    "    def speak(self):\n",
    "        return self.name+ \" says Meow\""
   ]
  },
  {
   "cell_type": "code",
   "execution_count": 157,
   "id": "legislative-talent",
   "metadata": {},
   "outputs": [],
   "source": [
    "jayantilal=Dog('jayantilal')"
   ]
  },
  {
   "cell_type": "code",
   "execution_count": 158,
   "id": "pursuant-conspiracy",
   "metadata": {},
   "outputs": [],
   "source": [
    "tom=Cat(\"tom\")"
   ]
  },
  {
   "cell_type": "code",
   "execution_count": 159,
   "id": "iraqi-bangkok",
   "metadata": {},
   "outputs": [
    {
     "name": "stdout",
     "output_type": "stream",
     "text": [
      "jayantilal says Woof\n"
     ]
    }
   ],
   "source": [
    "print(jayantilal.speak())"
   ]
  },
  {
   "cell_type": "code",
   "execution_count": 160,
   "id": "martial-nutrition",
   "metadata": {},
   "outputs": [
    {
     "name": "stdout",
     "output_type": "stream",
     "text": [
      "tom says Meow\n"
     ]
    }
   ],
   "source": [
    "print(tom.speak())"
   ]
  },
  {
   "cell_type": "markdown",
   "id": "indirect-sentence",
   "metadata": {},
   "source": [
    "# special(magic and dunder) method   part-4"
   ]
  },
  {
   "cell_type": "markdown",
   "id": "partial-reputation",
   "metadata": {},
   "source": [
    "Dunder or magic methods in Python are the methods having two prefix and suffix underscores in the method name. Dunder here means “Double Under (Underscores)”. These are commonly used for operator overloading. Few examples for magic methods are: __init__, __add__, __len__, __repr__ etc."
   ]
  },
  {
   "cell_type": "code",
   "execution_count": 1,
   "id": "mysterious-jungle",
   "metadata": {},
   "outputs": [],
   "source": [
    "mylist=[1,2,3]"
   ]
  },
  {
   "cell_type": "code",
   "execution_count": 2,
   "id": "stock-wedding",
   "metadata": {},
   "outputs": [
    {
     "data": {
      "text/plain": [
       "3"
      ]
     },
     "execution_count": 2,
     "metadata": {},
     "output_type": "execute_result"
    }
   ],
   "source": [
    "len(mylist)"
   ]
  },
  {
   "cell_type": "code",
   "execution_count": 3,
   "id": "resistant-investor",
   "metadata": {},
   "outputs": [],
   "source": [
    "class Sample():\n",
    "    pass"
   ]
  },
  {
   "cell_type": "code",
   "execution_count": 5,
   "id": "knowing-appreciation",
   "metadata": {},
   "outputs": [],
   "source": [
    "mysample=Sample()"
   ]
  },
  {
   "cell_type": "code",
   "execution_count": 6,
   "id": "toxic-vampire",
   "metadata": {},
   "outputs": [
    {
     "name": "stdout",
     "output_type": "stream",
     "text": [
      "<__main__.Sample object at 0x000001EF7AA8D850>\n"
     ]
    }
   ],
   "source": [
    "print(mysample) # sample locate in my memory"
   ]
  },
  {
   "cell_type": "code",
   "execution_count": 7,
   "id": "checked-wallace",
   "metadata": {},
   "outputs": [
    {
     "name": "stdout",
     "output_type": "stream",
     "text": [
      "[1, 2, 3]\n"
     ]
    }
   ],
   "source": [
    "print(mylist)"
   ]
  },
  {
   "cell_type": "markdown",
   "id": "promising-childhood",
   "metadata": {},
   "source": [
    "Q: how i'm able to actually use built in python fn. such as lenght or point with my own use defined objects. "
   ]
  },
  {
   "cell_type": "markdown",
   "id": "heated-feeding",
   "metadata": {},
   "source": [
    "ans:-use special method that method use double underscore work(__,__)in following manner"
   ]
  },
  {
   "cell_type": "code",
   "execution_count": 33,
   "id": "cultural-india",
   "metadata": {},
   "outputs": [],
   "source": [
    "class Book():\n",
    "    def __init__(self,title,author,pages):\n",
    "        self.title=title\n",
    "        self.author=author\n",
    "        self.pages=pages\n",
    "        \n",
    "    def __str__(self): #use spcl method\n",
    "        return f\"{self.title} by {self.author}\"\n",
    "    \n",
    "    def __len__(self): # for length\n",
    "        return self.pages\n",
    "    \n",
    "    def __del__(self): #delete\n",
    "        print(' A book object has been deleted')\n",
    "        "
   ]
  },
  {
   "cell_type": "code",
   "execution_count": 34,
   "id": "enormous-investor",
   "metadata": {},
   "outputs": [],
   "source": [
    "b=Book(\"python rocks\",'jose',200)"
   ]
  },
  {
   "cell_type": "code",
   "execution_count": 35,
   "id": "violent-centre",
   "metadata": {},
   "outputs": [
    {
     "name": "stdout",
     "output_type": "stream",
     "text": [
      "python rocks by jose\n"
     ]
    }
   ],
   "source": [
    "print(b)  #if we try to print then it says you have this book object in memory"
   ]
  },
  {
   "cell_type": "code",
   "execution_count": 36,
   "id": "abstract-memorial",
   "metadata": {},
   "outputs": [
    {
     "data": {
      "text/plain": [
       "'python rocks by jose'"
      ]
     },
     "execution_count": 36,
     "metadata": {},
     "output_type": "execute_result"
    }
   ],
   "source": [
    "str(b)  # try to tranform b in string just get a string version of this "
   ]
  },
  {
   "cell_type": "code",
   "execution_count": 37,
   "id": "rolled-heritage",
   "metadata": {},
   "outputs": [
    {
     "data": {
      "text/plain": [
       "200"
      ]
     },
     "execution_count": 37,
     "metadata": {},
     "output_type": "execute_result"
    }
   ],
   "source": [
    "len(b)"
   ]
  },
  {
   "cell_type": "code",
   "execution_count": 38,
   "id": "characteristic-atlanta",
   "metadata": {},
   "outputs": [
    {
     "name": "stdout",
     "output_type": "stream",
     "text": [
      " A book object has been deleted\n"
     ]
    }
   ],
   "source": [
    "del (b)"
   ]
  },
  {
   "cell_type": "code",
   "execution_count": null,
   "id": "federal-pension",
   "metadata": {},
   "outputs": [],
   "source": []
  },
  {
   "cell_type": "code",
   "execution_count": 40,
   "id": "democratic-automation",
   "metadata": {},
   "outputs": [
    {
     "name": "stdout",
     "output_type": "stream",
     "text": [
      "<__main__.String object at 0x000001EF7AB8D790>\n"
     ]
    }
   ],
   "source": [
    "class String:\n",
    "      \n",
    "    # magic method to initiate object\n",
    "    def __init__(self, string):\n",
    "        self.string = string\n",
    "          \n",
    "# Driver Code\n",
    "if __name__ == '__main__':\n",
    "      \n",
    "    # object creation\n",
    "    string1 = String('Hello')\n",
    "  \n",
    "    # print object location\n",
    "    print(string1)"
   ]
  },
  {
   "cell_type": "markdown",
   "id": "joint-stroke",
   "metadata": {},
   "source": [
    "The above snippet of code prints only the memory address of the string object. Let’s add a __repr__ method to represent our object."
   ]
  },
  {
   "cell_type": "code",
   "execution_count": 42,
   "id": "willing-battery",
   "metadata": {},
   "outputs": [
    {
     "name": "stdout",
     "output_type": "stream",
     "text": [
      "Object: Hello\n"
     ]
    }
   ],
   "source": [
    "class String:\n",
    "      \n",
    "    # magic method to initiate object\n",
    "    def __init__(self, string):\n",
    "        self.string = string\n",
    "          \n",
    "    # print our string object\n",
    "    def __repr__(self):\n",
    "        return 'Object: {}'.format(self.string)\n",
    "  \n",
    "# Driver Code\n",
    "if __name__ == '__main__':\n",
    "      \n",
    "    # object creation\n",
    "    string1 = String('Hello')\n",
    "  \n",
    "    # print object location\n",
    "    print(string1)"
   ]
  },
  {
   "cell_type": "code",
   "execution_count": null,
   "id": "excess-alarm",
   "metadata": {},
   "outputs": [],
   "source": []
  }
 ],
 "metadata": {
  "kernelspec": {
   "display_name": "Python 3",
   "language": "python",
   "name": "python3"
  },
  "language_info": {
   "codemirror_mode": {
    "name": "ipython",
    "version": 3
   },
   "file_extension": ".py",
   "mimetype": "text/x-python",
   "name": "python",
   "nbconvert_exporter": "python",
   "pygments_lexer": "ipython3",
   "version": "3.9.2"
  }
 },
 "nbformat": 4,
 "nbformat_minor": 5
}
