{
 "cells": [
  {
   "cell_type": "code",
   "execution_count": 5,
   "id": "entertaining-radio",
   "metadata": {},
   "outputs": [
    {
     "name": "stdout",
     "output_type": "stream",
     "text": [
      "Hellovikram\n"
     ]
    }
   ],
   "source": [
    "print(\"Hello\" +\"vikram\")"
   ]
  },
  {
   "cell_type": "code",
   "execution_count": 6,
   "id": "floppy-halloween",
   "metadata": {},
   "outputs": [],
   "source": [
    " def add_function(num1,num2):\n",
    "        return num1+num2"
   ]
  },
  {
   "cell_type": "code",
   "execution_count": 7,
   "id": "exempt-florence",
   "metadata": {},
   "outputs": [
    {
     "name": "stdout",
     "output_type": "stream",
     "text": [
      "3\n"
     ]
    }
   ],
   "source": [
    "result=add_function(1,2)\n",
    "print(result)"
   ]
  },
  {
   "cell_type": "code",
   "execution_count": 4,
   "id": "vital-creation",
   "metadata": {},
   "outputs": [],
   "source": [
    " def say_hello():\n",
    "        print(\"hello\")\n",
    "        print('are')\n",
    "        print(\"you\")"
   ]
  },
  {
   "cell_type": "code",
   "execution_count": 5,
   "id": "meaningful-translation",
   "metadata": {},
   "outputs": [
    {
     "name": "stdout",
     "output_type": "stream",
     "text": [
      "hello\n",
      "are\n",
      "you\n"
     ]
    }
   ],
   "source": [
    "say_hello()"
   ]
  },
  {
   "cell_type": "code",
   "execution_count": 12,
   "id": "instant-uganda",
   "metadata": {},
   "outputs": [],
   "source": [
    "def say_hello(name):\n",
    "    print(f'hello {name}')  "
   ]
  },
  {
   "cell_type": "code",
   "execution_count": 13,
   "id": "worse-major",
   "metadata": {},
   "outputs": [
    {
     "name": "stdout",
     "output_type": "stream",
     "text": [
      "hello vikram\n"
     ]
    }
   ],
   "source": [
    "say_hello('vikram')"
   ]
  },
  {
   "cell_type": "code",
   "execution_count": 14,
   "id": "decreased-discovery",
   "metadata": {},
   "outputs": [],
   "source": [
    "def say_hello(name='default'):\n",
    "    print(f'hello {name}')  "
   ]
  },
  {
   "cell_type": "code",
   "execution_count": 15,
   "id": "declared-brake",
   "metadata": {},
   "outputs": [
    {
     "name": "stdout",
     "output_type": "stream",
     "text": [
      "hello default\n"
     ]
    }
   ],
   "source": [
    "say_hello()"
   ]
  },
  {
   "cell_type": "code",
   "execution_count": 24,
   "id": "unexpected-india",
   "metadata": {},
   "outputs": [],
   "source": [
    "def add_num(num1,num2):\n",
    "    return num1+num2"
   ]
  },
  {
   "cell_type": "code",
   "execution_count": 25,
   "id": "veterinary-seeker",
   "metadata": {},
   "outputs": [
    {
     "data": {
      "text/plain": [
       "85"
      ]
     },
     "execution_count": 25,
     "metadata": {},
     "output_type": "execute_result"
    }
   ],
   "source": [
    "result=add_num(35,50)\n",
    "result"
   ]
  },
  {
   "cell_type": "code",
   "execution_count": 26,
   "id": "mineral-timothy",
   "metadata": {},
   "outputs": [],
   "source": [
    "def subt_num(num1,num2):\n",
    "    return num1-num2"
   ]
  },
  {
   "cell_type": "code",
   "execution_count": 27,
   "id": "developmental-copyright",
   "metadata": {},
   "outputs": [
    {
     "data": {
      "text/plain": [
       "30"
      ]
     },
     "execution_count": 27,
     "metadata": {},
     "output_type": "execute_result"
    }
   ],
   "source": [
    "result=subt_num(80,50)\n",
    "result"
   ]
  },
  {
   "cell_type": "code",
   "execution_count": 34,
   "id": "amateur-northwest",
   "metadata": {},
   "outputs": [],
   "source": [
    "def print_result(a,b):   # m1\n",
    "    print(a+b)"
   ]
  },
  {
   "cell_type": "code",
   "execution_count": 35,
   "id": "robust-emergency",
   "metadata": {},
   "outputs": [
    {
     "name": "stdout",
     "output_type": "stream",
     "text": [
      "70\n"
     ]
    }
   ],
   "source": [
    "print_result(30,40)"
   ]
  },
  {
   "cell_type": "code",
   "execution_count": 51,
   "id": "wrapped-scroll",
   "metadata": {},
   "outputs": [],
   "source": [
    "def print_result(a,b):   # m2\n",
    "    return(a+b)"
   ]
  },
  {
   "cell_type": "code",
   "execution_count": 52,
   "id": "sunset-cement",
   "metadata": {},
   "outputs": [
    {
     "data": {
      "text/plain": [
       "130"
      ]
     },
     "execution_count": 52,
     "metadata": {},
     "output_type": "execute_result"
    }
   ],
   "source": [
    "print_result(80,50)"
   ]
  },
  {
   "cell_type": "code",
   "execution_count": 64,
   "id": "streaming-train",
   "metadata": {},
   "outputs": [],
   "source": [
    "def print_result(a,b):   \n",
    "     return a+b "
   ]
  },
  {
   "cell_type": "code",
   "execution_count": 65,
   "id": "impaired-classic",
   "metadata": {},
   "outputs": [],
   "source": [
    "def return_result(a,b):\n",
    "    return a+b"
   ]
  },
  {
   "cell_type": "code",
   "execution_count": 67,
   "id": "instant-google",
   "metadata": {},
   "outputs": [],
   "source": [
    "result=return_result(90,90)"
   ]
  },
  {
   "cell_type": "code",
   "execution_count": 68,
   "id": "alternative-rotation",
   "metadata": {},
   "outputs": [
    {
     "data": {
      "text/plain": [
       "180"
      ]
     },
     "execution_count": 68,
     "metadata": {},
     "output_type": "execute_result"
    }
   ],
   "source": [
    "result"
   ]
  },
  {
   "cell_type": "code",
   "execution_count": 69,
   "id": "exotic-arrival",
   "metadata": {},
   "outputs": [],
   "source": [
    " result=print_result(90,90)"
   ]
  },
  {
   "cell_type": "code",
   "execution_count": 70,
   "id": "compliant-compensation",
   "metadata": {},
   "outputs": [
    {
     "data": {
      "text/plain": [
       "180"
      ]
     },
     "execution_count": 70,
     "metadata": {},
     "output_type": "execute_result"
    }
   ],
   "source": [
    "result"
   ]
  },
  {
   "cell_type": "code",
   "execution_count": 89,
   "id": "nasty-baptist",
   "metadata": {},
   "outputs": [
    {
     "data": {
      "text/plain": [
       "170"
      ]
     },
     "execution_count": 89,
     "metadata": {},
     "output_type": "execute_result"
    }
   ],
   "source": [
    "def myfunc(a,b):\n",
    "    return a+b\n",
    "\n",
    "result4 = myfunc(80,90)\n",
    "result4"
   ]
  },
  {
   "cell_type": "raw",
   "id": "impressed-concern",
   "metadata": {},
   "source": []
  },
  {
   "cell_type": "code",
   "execution_count": 91,
   "id": "american-glucose",
   "metadata": {},
   "outputs": [
    {
     "data": {
      "text/plain": [
       "170"
      ]
     },
     "execution_count": 91,
     "metadata": {},
     "output_type": "execute_result"
    }
   ],
   "source": [
    "def myfunc(a,b):\n",
    "    return a+b\n",
    "\n",
    "myfunc(80,90)\n"
   ]
  },
  {
   "cell_type": "code",
   "execution_count": 80,
   "id": "otherwise-custody",
   "metadata": {},
   "outputs": [],
   "source": [
    "def sum_number(num1,num2):\n",
    "    return num1+num2"
   ]
  },
  {
   "cell_type": "code",
   "execution_count": 81,
   "id": "mature-consolidation",
   "metadata": {},
   "outputs": [
    {
     "data": {
      "text/plain": [
       "30"
      ]
     },
     "execution_count": 81,
     "metadata": {},
     "output_type": "execute_result"
    }
   ],
   "source": [
    "sum_number(10,20)"
   ]
  },
  {
   "cell_type": "code",
   "execution_count": 98,
   "id": "solid-simple",
   "metadata": {},
   "outputs": [],
   "source": [
    "def myfunc():\n",
    "    even_list = []\n",
    "    odd_list = []\n",
    "    for i in mix:\n",
    "        if (i % 2 == 0):\n",
    "            even_list.append(i)\n",
    "        else:\n",
    "            odd_list.append(i)\n",
    "    print(\"Even lists:\", even_list)\n",
    "    print(\"Odd lists:\", odd_list)\n",
    "    \n",
    "    \n",
    "    "
   ]
  },
  {
   "cell_type": "code",
   "execution_count": null,
   "id": "departmental-senior",
   "metadata": {},
   "outputs": [],
   "source": []
  }
 ],
 "metadata": {
  "kernelspec": {
   "display_name": "Python 3",
   "language": "python",
   "name": "python3"
  },
  "language_info": {
   "codemirror_mode": {
    "name": "ipython",
    "version": 3
   },
   "file_extension": ".py",
   "mimetype": "text/x-python",
   "name": "python",
   "nbconvert_exporter": "python",
   "pygments_lexer": "ipython3",
   "version": "3.9.2"
  }
 },
 "nbformat": 4,
 "nbformat_minor": 5
}
