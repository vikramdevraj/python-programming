{
 "cells": [
  {
   "cell_type": "code",
   "execution_count": 1,
   "id": "catholic-college",
   "metadata": {},
   "outputs": [
    {
     "data": {
      "text/plain": [
       "'hello'"
      ]
     },
     "execution_count": 1,
     "metadata": {},
     "output_type": "execute_result"
    }
   ],
   "source": [
    "'hello'"
   ]
  },
  {
   "cell_type": "code",
   "execution_count": 2,
   "id": "contained-arthur",
   "metadata": {},
   "outputs": [
    {
     "data": {
      "text/plain": [
       "'hello'"
      ]
     },
     "execution_count": 2,
     "metadata": {},
     "output_type": "execute_result"
    }
   ],
   "source": [
    "\"hello\""
   ]
  },
  {
   "cell_type": "code",
   "execution_count": 5,
   "id": "australian-conviction",
   "metadata": {},
   "outputs": [
    {
     "data": {
      "text/plain": [
       "\"i'm going to run\""
      ]
     },
     "execution_count": 5,
     "metadata": {},
     "output_type": "execute_result"
    }
   ],
   "source": [
    "\"i'm going to run\""
   ]
  },
  {
   "cell_type": "code",
   "execution_count": 4,
   "id": "timely-portuguese",
   "metadata": {},
   "outputs": [
    {
     "name": "stdout",
     "output_type": "stream",
     "text": [
      "\f",
      "\n"
     ]
    }
   ],
   "source": [
    "clear\n"
   ]
  },
  {
   "cell_type": "code",
   "execution_count": 6,
   "id": "interstate-belly",
   "metadata": {},
   "outputs": [
    {
     "name": "stdout",
     "output_type": "stream",
     "text": [
      "hello\n"
     ]
    }
   ],
   "source": [
    "print(\"hello\")"
   ]
  },
  {
   "cell_type": "code",
   "execution_count": 7,
   "id": "quiet-pasta",
   "metadata": {},
   "outputs": [
    {
     "data": {
      "text/plain": [
       "5"
      ]
     },
     "execution_count": 7,
     "metadata": {},
     "output_type": "execute_result"
    }
   ],
   "source": [
    "len(\"hello\")"
   ]
  },
  {
   "cell_type": "code",
   "execution_count": 24,
   "id": "fabulous-subscriber",
   "metadata": {},
   "outputs": [
    {
     "name": "stdout",
     "output_type": "stream",
     "text": [
      "I   AM    VIK\n"
     ]
    }
   ],
   "source": [
    "len (\"i   am    vik\")\n",
    "var=\"i   am    vik\"\n",
    "print(var.upper())\n"
   ]
  },
  {
   "cell_type": "code",
   "execution_count": 9,
   "id": "massive-continent",
   "metadata": {},
   "outputs": [
    {
     "ename": "NameError",
     "evalue": "name 'var' is not defined",
     "output_type": "error",
     "traceback": [
      "\u001b[1;31m---------------------------------------------------------------------------\u001b[0m",
      "\u001b[1;31mNameError\u001b[0m                                 Traceback (most recent call last)",
      "\u001b[1;32m<ipython-input-9-b71f9d095288>\u001b[0m in \u001b[0;36m<module>\u001b[1;34m\u001b[0m\n\u001b[1;32m----> 1\u001b[1;33m \u001b[0mvar\u001b[0m\u001b[1;33m(\u001b[0m\u001b[1;34m\"devil\"\u001b[0m\u001b[1;33m)\u001b[0m\u001b[1;33m\u001b[0m\u001b[1;33m\u001b[0m\u001b[0m\n\u001b[0m",
      "\u001b[1;31mNameError\u001b[0m: name 'var' is not defined"
     ]
    }
   ],
   "source": [
    "var(\"devil\")"
   ]
  },
  {
   "cell_type": "code",
   "execution_count": 14,
   "id": "perfect-purpose",
   "metadata": {},
   "outputs": [],
   "source": [
    "var=\"ram\""
   ]
  },
  {
   "cell_type": "code",
   "execution_count": 15,
   "id": "posted-mirror",
   "metadata": {},
   "outputs": [
    {
     "ename": "NameError",
     "evalue": "name 'ram' is not defined",
     "output_type": "error",
     "traceback": [
      "\u001b[1;31m---------------------------------------------------------------------------\u001b[0m",
      "\u001b[1;31mNameError\u001b[0m                                 Traceback (most recent call last)",
      "\u001b[1;32m<ipython-input-15-c0c22709d4cb>\u001b[0m in \u001b[0;36m<module>\u001b[1;34m\u001b[0m\n\u001b[1;32m----> 1\u001b[1;33m \u001b[0mram\u001b[0m\u001b[1;33m\u001b[0m\u001b[1;33m\u001b[0m\u001b[0m\n\u001b[0m",
      "\u001b[1;31mNameError\u001b[0m: name 'ram' is not defined"
     ]
    }
   ],
   "source": [
    "ram"
   ]
  },
  {
   "cell_type": "code",
   "execution_count": 25,
   "id": "funded-basketball",
   "metadata": {},
   "outputs": [],
   "source": [
    "var=[1,2+5j,[True,[1,2,3],[1,'reddy',['dinga']]],['dingi',['leela','sheela']]]"
   ]
  },
  {
   "cell_type": "code",
   "execution_count": 26,
   "id": "pharmaceutical-bosnia",
   "metadata": {},
   "outputs": [
    {
     "data": {
      "text/plain": [
       "[True, [1, 2, 3], [1, 'reddy', ['dinga']]]"
      ]
     },
     "execution_count": 26,
     "metadata": {},
     "output_type": "execute_result"
    }
   ],
   "source": [
    "var[2]"
   ]
  },
  {
   "cell_type": "code",
   "execution_count": 27,
   "id": "latin-airfare",
   "metadata": {},
   "outputs": [
    {
     "data": {
      "text/plain": [
       "['dingi', ['leela', 'sheela']]"
      ]
     },
     "execution_count": 27,
     "metadata": {},
     "output_type": "execute_result"
    }
   ],
   "source": [
    "var[3]"
   ]
  },
  {
   "cell_type": "code",
   "execution_count": 29,
   "id": "automatic-hamilton",
   "metadata": {},
   "outputs": [
    {
     "data": {
      "text/plain": [
       "['dinga']"
      ]
     },
     "execution_count": 29,
     "metadata": {},
     "output_type": "execute_result"
    }
   ],
   "source": [
    "var[2][2][-1]"
   ]
  },
  {
   "cell_type": "raw",
   "id": "iraqi-marble",
   "metadata": {},
   "source": []
  },
  {
   "cell_type": "code",
   "execution_count": 28,
   "id": "breeding-warrant",
   "metadata": {},
   "outputs": [
    {
     "ename": "IndexError",
     "evalue": "list index out of range",
     "output_type": "error",
     "traceback": [
      "\u001b[1;31m---------------------------------------------------------------------------\u001b[0m",
      "\u001b[1;31mIndexError\u001b[0m                                Traceback (most recent call last)",
      "\u001b[1;32m<ipython-input-28-6e0795f01afe>\u001b[0m in \u001b[0;36m<module>\u001b[1;34m\u001b[0m\n\u001b[1;32m----> 1\u001b[1;33m \u001b[0mvar\u001b[0m\u001b[1;33m[\u001b[0m\u001b[1;36m4\u001b[0m\u001b[1;33m]\u001b[0m\u001b[1;33m\u001b[0m\u001b[1;33m\u001b[0m\u001b[0m\n\u001b[0m",
      "\u001b[1;31mIndexError\u001b[0m: list index out of range"
     ]
    }
   ],
   "source": [
    "var[4]"
   ]
  },
  {
   "cell_type": "code",
   "execution_count": 30,
   "id": "unlikely-dream",
   "metadata": {},
   "outputs": [
    {
     "data": {
      "text/plain": [
       "[3, 2, 1]"
      ]
     },
     "execution_count": 30,
     "metadata": {},
     "output_type": "execute_result"
    }
   ],
   "source": [
    "var[2][1][::-1]"
   ]
  },
  {
   "cell_type": "code",
   "execution_count": 31,
   "id": "significant-canal",
   "metadata": {},
   "outputs": [
    {
     "data": {
      "text/plain": [
       "[1, 'reddy']"
      ]
     },
     "execution_count": 31,
     "metadata": {},
     "output_type": "execute_result"
    }
   ],
   "source": [
    "var[2][2][:-1]"
   ]
  },
  {
   "cell_type": "code",
   "execution_count": 32,
   "id": "straight-powder",
   "metadata": {},
   "outputs": [
    {
     "data": {
      "text/plain": [
       "[['dinga'], 'reddy', 1]"
      ]
     },
     "execution_count": 32,
     "metadata": {},
     "output_type": "execute_result"
    }
   ],
   "source": [
    "var [2][2][::-1]"
   ]
  },
  {
   "cell_type": "code",
   "execution_count": 33,
   "id": "moving-sociology",
   "metadata": {},
   "outputs": [
    {
     "data": {
      "text/plain": [
       "'ydder'"
      ]
     },
     "execution_count": 33,
     "metadata": {},
     "output_type": "execute_result"
    }
   ],
   "source": [
    "var[2][2][1][::-1]"
   ]
  },
  {
   "cell_type": "code",
   "execution_count": 34,
   "id": "black-quality",
   "metadata": {},
   "outputs": [
    {
     "ename": "NameError",
     "evalue": "name 'cell' is not defined",
     "output_type": "error",
     "traceback": [
      "\u001b[1;31m---------------------------------------------------------------------------\u001b[0m",
      "\u001b[1;31mNameError\u001b[0m                                 Traceback (most recent call last)",
      "\u001b[1;32m<ipython-input-34-3f62741ae9ce>\u001b[0m in \u001b[0;36m<module>\u001b[1;34m\u001b[0m\n\u001b[1;32m----> 1\u001b[1;33m \u001b[0mcell\u001b[0m\u001b[1;33m\u001b[0m\u001b[1;33m\u001b[0m\u001b[0m\n\u001b[0m",
      "\u001b[1;31mNameError\u001b[0m: name 'cell' is not defined"
     ]
    }
   ],
   "source": [
    "cell"
   ]
  },
  {
   "cell_type": "code",
   "execution_count": 37,
   "id": "internal-graphic",
   "metadata": {},
   "outputs": [
    {
     "ename": "IndexError",
     "evalue": "list index out of range",
     "output_type": "error",
     "traceback": [
      "\u001b[1;31m---------------------------------------------------------------------------\u001b[0m",
      "\u001b[1;31mIndexError\u001b[0m                                Traceback (most recent call last)",
      "\u001b[1;32m<ipython-input-37-d7204842499a>\u001b[0m in \u001b[0;36m<module>\u001b[1;34m\u001b[0m\n\u001b[1;32m----> 1\u001b[1;33m \u001b[0mvar\u001b[0m\u001b[1;33m[\u001b[0m\u001b[1;36m3\u001b[0m\u001b[1;33m]\u001b[0m\u001b[1;33m[\u001b[0m\u001b[1;36m3\u001b[0m\u001b[1;33m]\u001b[0m\u001b[1;33m[\u001b[0m\u001b[1;36m3\u001b[0m\u001b[1;33m]\u001b[0m\u001b[1;33m[\u001b[0m\u001b[1;36m1\u001b[0m\u001b[1;33m]\u001b[0m\u001b[1;33m\u001b[0m\u001b[1;33m\u001b[0m\u001b[0m\n\u001b[0m",
      "\u001b[1;31mIndexError\u001b[0m: list index out of range"
     ]
    }
   ],
   "source": [
    "var[3][3][3][1]"
   ]
  },
  {
   "cell_type": "code",
   "execution_count": 40,
   "id": "underlying-nickel",
   "metadata": {},
   "outputs": [],
   "source": [
    "mystring=('hello devil')"
   ]
  },
  {
   "cell_type": "code",
   "execution_count": 41,
   "id": "occupied-interface",
   "metadata": {},
   "outputs": [
    {
     "data": {
      "text/plain": [
       "'hello devil'"
      ]
     },
     "execution_count": 41,
     "metadata": {},
     "output_type": "execute_result"
    }
   ],
   "source": [
    "mystring"
   ]
  },
  {
   "cell_type": "code",
   "execution_count": 42,
   "id": "floral-nylon",
   "metadata": {},
   "outputs": [
    {
     "data": {
      "text/plain": [
       "'h'"
      ]
     },
     "execution_count": 42,
     "metadata": {},
     "output_type": "execute_result"
    }
   ],
   "source": [
    "mystring[0]"
   ]
  },
  {
   "cell_type": "code",
   "execution_count": 43,
   "id": "leading-germany",
   "metadata": {},
   "outputs": [
    {
     "data": {
      "text/plain": [
       "'d'"
      ]
     },
     "execution_count": 43,
     "metadata": {},
     "output_type": "execute_result"
    }
   ],
   "source": [
    "mystring[6]"
   ]
  },
  {
   "cell_type": "code",
   "execution_count": 44,
   "id": "dense-mystery",
   "metadata": {},
   "outputs": [
    {
     "data": {
      "text/plain": [
       "' '"
      ]
     },
     "execution_count": 44,
     "metadata": {},
     "output_type": "execute_result"
    }
   ],
   "source": [
    "mystring[5]"
   ]
  },
  {
   "cell_type": "code",
   "execution_count": 45,
   "id": "british-nudist",
   "metadata": {},
   "outputs": [
    {
     "data": {
      "text/plain": [
       "'v'"
      ]
     },
     "execution_count": 45,
     "metadata": {},
     "output_type": "execute_result"
    }
   ],
   "source": [
    "mystring[-3]"
   ]
  },
  {
   "cell_type": "code",
   "execution_count": 46,
   "id": "beautiful-education",
   "metadata": {},
   "outputs": [
    {
     "data": {
      "text/plain": [
       "'hello '"
      ]
     },
     "execution_count": 46,
     "metadata": {},
     "output_type": "execute_result"
    }
   ],
   "source": [
    "mystring[0:-5]"
   ]
  },
  {
   "cell_type": "code",
   "execution_count": 47,
   "id": "oriented-relaxation",
   "metadata": {},
   "outputs": [
    {
     "data": {
      "text/plain": [
       "''"
      ]
     },
     "execution_count": 47,
     "metadata": {},
     "output_type": "execute_result"
    }
   ],
   "source": [
    "mystring[0:3:-2]"
   ]
  },
  {
   "cell_type": "code",
   "execution_count": 48,
   "id": "latter-retrieval",
   "metadata": {},
   "outputs": [
    {
     "data": {
      "text/plain": [
       "'v'"
      ]
     },
     "execution_count": 48,
     "metadata": {},
     "output_type": "execute_result"
    }
   ],
   "source": [
    "mystring[-3]"
   ]
  },
  {
   "cell_type": "code",
   "execution_count": 53,
   "id": "surface-principle",
   "metadata": {},
   "outputs": [
    {
     "data": {
      "text/plain": [
       "'Hello World'"
      ]
     },
     "execution_count": 53,
     "metadata": {},
     "output_type": "execute_result"
    }
   ],
   "source": [
    "\"Hello World\""
   ]
  },
  {
   "cell_type": "code",
   "execution_count": 56,
   "id": "alive-retreat",
   "metadata": {},
   "outputs": [
    {
     "data": {
      "text/plain": [
       "[1]"
      ]
     },
     "execution_count": 56,
     "metadata": {},
     "output_type": "execute_result"
    }
   ],
   "source": [
    "[1]"
   ]
  },
  {
   "cell_type": "code",
   "execution_count": null,
   "id": "quiet-negotiation",
   "metadata": {},
   "outputs": [],
   "source": []
  }
 ],
 "metadata": {
  "kernelspec": {
   "display_name": "Python 3",
   "language": "python",
   "name": "python3"
  },
  "language_info": {
   "codemirror_mode": {
    "name": "ipython",
    "version": 3
   },
   "file_extension": ".py",
   "mimetype": "text/x-python",
   "name": "python",
   "nbconvert_exporter": "python",
   "pygments_lexer": "ipython3",
   "version": "3.9.2"
  }
 },
 "nbformat": 4,
 "nbformat_minor": 5
}
