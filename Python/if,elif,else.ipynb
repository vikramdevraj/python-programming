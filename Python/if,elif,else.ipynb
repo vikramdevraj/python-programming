{
 "cells": [
  {
   "cell_type": "code",
   "execution_count": 3,
   "id": "southwest-manner",
   "metadata": {},
   "outputs": [
    {
     "name": "stdout",
     "output_type": "stream",
     "text": [
      "ITS TRUE\n"
     ]
    }
   ],
   "source": [
    "if True:\n",
    "    print('ITS TRUE')"
   ]
  },
  {
   "cell_type": "code",
   "execution_count": 4,
   "id": "bizarre-pulse",
   "metadata": {},
   "outputs": [
    {
     "name": "stdout",
     "output_type": "stream",
     "text": [
      "ITS TRUE!\n"
     ]
    }
   ],
   "source": [
    "if 3>2:\n",
    "    print('ITS TRUE!')"
   ]
  },
  {
   "cell_type": "code",
   "execution_count": 5,
   "id": "executive-intelligence",
   "metadata": {},
   "outputs": [
    {
     "name": "stdout",
     "output_type": "stream",
     "text": [
      "FEED ME\n"
     ]
    }
   ],
   "source": [
    "hungry=True\n",
    "if hungry:\n",
    "    print('FEED ME')"
   ]
  },
  {
   "cell_type": "code",
   "execution_count": 7,
   "id": "employed-paradise",
   "metadata": {},
   "outputs": [],
   "source": [
    "hungry=False        #nothing get any o/p\n",
    "if hungry:\n",
    "    print('FEED ME')"
   ]
  },
  {
   "cell_type": "code",
   "execution_count": 8,
   "id": "stone-nigeria",
   "metadata": {},
   "outputs": [
    {
     "name": "stdout",
     "output_type": "stream",
     "text": [
      "IM NOT HUNGRY\n"
     ]
    }
   ],
   "source": [
    "hungry=False       \n",
    "if hungry:\n",
    "    print('FEED ME') \n",
    "else:\n",
    "    print('IM NOT HUNGRY')\n",
    "    "
   ]
  },
  {
   "cell_type": "code",
   "execution_count": 9,
   "id": "indian-technician",
   "metadata": {},
   "outputs": [
    {
     "name": "stdout",
     "output_type": "stream",
     "text": [
      "FEED ME\n"
     ]
    }
   ],
   "source": [
    "hungry=True     \n",
    "if hungry:\n",
    "    print('FEED ME') \n",
    "else:\n",
    "    print('IM NOT HUNGRY')"
   ]
  },
  {
   "cell_type": "code",
   "execution_count": 17,
   "id": "descending-perspective",
   "metadata": {},
   "outputs": [
    {
     "name": "stdout",
     "output_type": "stream",
     "text": [
      "I do not know much\n"
     ]
    }
   ],
   "source": [
    "loc= 'Bank'\n",
    "\n",
    "if loc =='Auto shop':\n",
    "    print(\"Cars are cool\")\n",
    "else:\n",
    "    print('I do not know much')"
   ]
  },
  {
   "cell_type": "code",
   "execution_count": 18,
   "id": "completed-conservative",
   "metadata": {},
   "outputs": [
    {
     "name": "stdout",
     "output_type": "stream",
     "text": [
      "Money is cool\n"
     ]
    }
   ],
   "source": [
    "loc= 'Bank'\n",
    "\n",
    "if loc =='Auto shop':\n",
    "    print(\"Cars are cool\")\n",
    "elif loc=='Bank':\n",
    "    print('Money is cool')\n",
    "elif loc=='Store':\n",
    "    print('Welcome to the store')\n",
    "\n",
    "else:\n",
    "    print('I do not know much')"
   ]
  },
  {
   "cell_type": "code",
   "execution_count": 19,
   "id": "recognized-canon",
   "metadata": {},
   "outputs": [
    {
     "name": "stdout",
     "output_type": "stream",
     "text": [
      "Hello vikram\n"
     ]
    }
   ],
   "source": [
    "name='vikram'\n",
    "if name=='Devraj':\n",
    "    print('Hello Devraj')\n",
    "elif name=='vikram':\n",
    "    print('Hello vikram')\n",
    "else:\n",
    "    print('What is your name?')"
   ]
  },
  {
   "cell_type": "code",
   "execution_count": 20,
   "id": "facial-humanitarian",
   "metadata": {},
   "outputs": [
    {
     "name": "stdout",
     "output_type": "stream",
     "text": [
      "What is your name?\n"
     ]
    }
   ],
   "source": [
    "name='frankie'\n",
    "if name=='Devraj':\n",
    "    print('Hello Devraj')\n",
    "elif name=='vikram':\n",
    "    print('Hello vikram')\n",
    "else:\n",
    "    print('What is your name?')"
   ]
  },
  {
   "cell_type": "code",
   "execution_count": null,
   "id": "every-carnival",
   "metadata": {},
   "outputs": [],
   "source": []
  }
 ],
 "metadata": {
  "kernelspec": {
   "display_name": "Python 3",
   "language": "python",
   "name": "python3"
  },
  "language_info": {
   "codemirror_mode": {
    "name": "ipython",
    "version": 3
   },
   "file_extension": ".py",
   "mimetype": "text/x-python",
   "name": "python",
   "nbconvert_exporter": "python",
   "pygments_lexer": "ipython3",
   "version": "3.9.2"
  }
 },
 "nbformat": 4,
 "nbformat_minor": 5
}
