{
 "cells": [
  {
   "cell_type": "code",
   "execution_count": 1,
   "id": "standing-muscle",
   "metadata": {},
   "outputs": [
    {
     "name": "stdout",
     "output_type": "stream",
     "text": [
      "False\n"
     ]
    }
   ],
   "source": [
    "s=\"A man,a plan,a canal:Panama\"\n",
    "s=s.replace(',','')\n",
    "s=s.replace(':','')\n",
    "s=s.strip()\n",
    "rev=s[::-1]\n",
    "if s== rev:\n",
    "    print(True)\n",
    "\n",
    "else:\n",
    "    print(False)\n"
   ]
  },
  {
   "cell_type": "code",
   "execution_count": 6,
   "id": "original-decimal",
   "metadata": {},
   "outputs": [
    {
     "name": "stdout",
     "output_type": "stream",
     "text": [
      "True\n",
      "amanaplanacanalpanama\n",
      "amanaplanacanalpanama\n"
     ]
    }
   ],
   "source": [
    "s=\"A man,a plan,a canal: Panama\"\n",
    "s=s.lower()\n",
    "s=s.replace(',','')\n",
    "s=s.replace(':','')\n",
    "s=s.replace(\" \", \"\")\n",
    "rev=s[::-1]\n",
    "if s== rev:\n",
    "    print(True)\n",
    "\n",
    "else:\n",
    "    print(False)\n",
    "print(s)\n",
    "print(rev)"
   ]
  },
  {
   "cell_type": "code",
   "execution_count": 7,
   "id": "relative-jacket",
   "metadata": {},
   "outputs": [
    {
     "name": "stdout",
     "output_type": "stream",
     "text": [
      "True\n"
     ]
    }
   ],
   "source": [
    "s=\"A man,a plan,a canal: Panama\"\n",
    "s=s.lower()\n",
    "s=s.replace(',','')\n",
    "s=s.replace(':','')\n",
    "s=s.replace(\" \", \"\")\n",
    "rev=s[::-1]\n",
    "if s== rev:\n",
    "    print(True)\n",
    "\n",
    "else:\n",
    "    print(False)\n"
   ]
  },
  {
   "cell_type": "code",
   "execution_count": 8,
   "id": "alien-hunger",
   "metadata": {},
   "outputs": [
    {
     "name": "stdout",
     "output_type": "stream",
     "text": [
      "121\n",
      "True\n"
     ]
    }
   ],
   "source": [
    "s=input()\n",
    "s=s.lower()\n",
    "s=s.replace(',','')\n",
    "s=s.replace(':','')\n",
    "s=s.replace(\" \", \"\")\n",
    "rev=s[::-1]\n",
    "if s== rev:\n",
    "    print(True)\n",
    "\n",
    "else:\n",
    "    print(False)\n"
   ]
  },
  {
   "cell_type": "code",
   "execution_count": null,
   "id": "nonprofit-transition",
   "metadata": {},
   "outputs": [],
   "source": []
  }
 ],
 "metadata": {
  "kernelspec": {
   "display_name": "Python 3",
   "language": "python",
   "name": "python3"
  },
  "language_info": {
   "codemirror_mode": {
    "name": "ipython",
    "version": 3
   },
   "file_extension": ".py",
   "mimetype": "text/x-python",
   "name": "python",
   "nbconvert_exporter": "python",
   "pygments_lexer": "ipython3",
   "version": "3.9.2"
  }
 },
 "nbformat": 4,
 "nbformat_minor": 5
}
