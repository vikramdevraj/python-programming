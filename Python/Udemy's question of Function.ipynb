{
 "cells": [
  {
   "cell_type": "code",
   "execution_count": 1,
   "id": "sharp-kingdom",
   "metadata": {},
   "outputs": [
    {
     "data": {
      "text/plain": [
       "[6, 8]"
      ]
     },
     "execution_count": 1,
     "metadata": {},
     "output_type": "execute_result"
    }
   ],
   "source": [
    "# find even no:\n",
    "def myfunc(*args):\n",
    "    even=[]\n",
    "    for n in args:\n",
    "        if n%2==0:\n",
    "            even.append(n)\n",
    "        else:\n",
    "            pass\n",
    "    return even\n",
    "myfunc(5,6,7,8)\n"
   ]
  },
  {
   "cell_type": "code",
   "execution_count": null,
   "id": "competent-stable",
   "metadata": {},
   "outputs": [],
   "source": [
    "def myfunc(st):  # even in upper or lower in odd \n",
    "    operations = (str.lower, str.upper)\n",
    "    return ''.join(operations[i%2](x) for i, x in enumerate(st))\n",
    "\n",
    "print(myfunc('devil'))"
   ]
  },
  {
   "cell_type": "code",
   "execution_count": null,
   "id": "featured-evaluation",
   "metadata": {},
   "outputs": [],
   "source": [
    "def upLow(s):  #2\n",
    "    return \"\".join(c.lower() if i&1 else c.upper() for i,c in enumerate(s))\n",
    "upLow(\"HelloWorld\")"
   ]
  },
  {
   "cell_type": "markdown",
   "id": "presidential-israeli",
   "metadata": {},
   "source": [
    "# method and function problem"
   ]
  },
  {
   "cell_type": "markdown",
   "id": "straight-absorption",
   "metadata": {},
   "source": [
    "Q:LESSER OF TWO EVENS: Write a function that returns the lesser of two given numbers if both numbers are even, but returns the greater if one or both numbers are odd\n",
    "\n",
    "lesser_of_two_evens(2,4) --> 2\n",
    "lesser_of_two_evens(2,5) --> 5"
   ]
  },
  {
   "cell_type": "code",
   "execution_count": null,
   "id": "representative-tours",
   "metadata": {},
   "outputs": [],
   "source": [
    "def lesser_of_two_even(a,b):\n",
    "    if a%2==0 and b%2==0:\n",
    "        if a<b:\n",
    "            result=a\n",
    "        else:\n",
    "            result=b\n",
    "    else:\n",
    "            #one or both are odd\n",
    "            if a>b:\n",
    "                result=a\n",
    "            else:\n",
    "                result=b\n",
    "    return result"
   ]
  },
  {
   "cell_type": "code",
   "execution_count": null,
   "id": "approved-national",
   "metadata": {},
   "outputs": [],
   "source": [
    "lesser_of_two_even(2,4)"
   ]
  },
  {
   "cell_type": "code",
   "execution_count": null,
   "id": "suspected-presence",
   "metadata": {},
   "outputs": [],
   "source": [
    "lesser_of_two_even(2,5)"
   ]
  },
  {
   "cell_type": "code",
   "execution_count": null,
   "id": "accurate-forth",
   "metadata": {},
   "outputs": [],
   "source": [
    "min(80,59)"
   ]
  },
  {
   "cell_type": "code",
   "execution_count": null,
   "id": "injured-tuition",
   "metadata": {},
   "outputs": [],
   "source": [
    "max(110,117)"
   ]
  },
  {
   "cell_type": "code",
   "execution_count": null,
   "id": "disturbed-prior",
   "metadata": {},
   "outputs": [],
   "source": [
    "def lesser_of_two_even(a,b):  #m2\n",
    "    if a%2==0 and b%2==0:\n",
    "        #both are even\n",
    "        result=min(a,b)\n",
    "    else:\n",
    "            #one or both are odd\n",
    "            result=max(a,b)\n",
    "    return result"
   ]
  },
  {
   "cell_type": "code",
   "execution_count": null,
   "id": "detailed-alberta",
   "metadata": {},
   "outputs": [],
   "source": [
    "lesser_of_two_even(4,5)"
   ]
  },
  {
   "cell_type": "markdown",
   "id": "rental-burden",
   "metadata": {},
   "source": [
    "# Ques: ANIMAL CRACKERS: Write a function takes a two-word string and returns True if both words begin with same letter\n",
    "animal_crackers('Levelheaded Llama') --> True\n",
    "animal_crackers('Crazy Kangaroo') --> False"
   ]
  },
  {
   "cell_type": "code",
   "execution_count": null,
   "id": "ordered-efficiency",
   "metadata": {},
   "outputs": [],
   "source": [
    "def animal_crackers(text):\n",
    "    wordlist=text.split()\n",
    "    print(wordlist)\n",
    "    \n",
    "    first=wordlist[0]\n",
    "    second=wordlist[1]\n",
    "    \n",
    "    return first[0] == second[1]"
   ]
  },
  {
   "cell_type": "code",
   "execution_count": null,
   "id": "objective-rebel",
   "metadata": {},
   "outputs": [],
   "source": [
    "animal_crackers('Levelheaded Llama')"
   ]
  },
  {
   "cell_type": "code",
   "execution_count": null,
   "id": "available-clock",
   "metadata": {},
   "outputs": [],
   "source": [
    "\n",
    "def animal_cracker(text):\n",
    "    splitstring= text.split()\n",
    "    if (splitstring[0][0]==splitstring[1][0]):\n",
    "        return True\n",
    "    else:\n",
    "        return False"
   ]
  },
  {
   "cell_type": "code",
   "execution_count": null,
   "id": "psychological-cancer",
   "metadata": {},
   "outputs": [],
   "source": [
    "animal_cracker('Levelheaded Llama')\n",
    "animal_crackers('Crazy Kangaroo') "
   ]
  },
  {
   "cell_type": "code",
   "execution_count": null,
   "id": "standard-frederick",
   "metadata": {},
   "outputs": [],
   "source": [
    "animal_crackers('Crazy Kangaroo')"
   ]
  },
  {
   "cell_type": "markdown",
   "id": "given-circuit",
   "metadata": {},
   "source": [
    "MAKES TWENTY: Given two integers, return True if the sum of the integers is 20 or if one of the integers is 20. If not, return False\n",
    "makes_twenty(20,10) --> True\n",
    "makes_twenty(12,8) --> True\n",
    "makes_twenty(2,3) --> False"
   ]
  },
  {
   "cell_type": "code",
   "execution_count": null,
   "id": "liberal-salon",
   "metadata": {},
   "outputs": [],
   "source": [
    "def makes_twenty(n1,n2):\n",
    "    if n1+n2==20:\n",
    "        return True\n",
    "    elif n1==20:\n",
    "        return True\n",
    "    elif n2==20:\n",
    "        return True\n",
    "    else:\n",
    "        return False"
   ]
  },
  {
   "cell_type": "code",
   "execution_count": null,
   "id": "solid-translation",
   "metadata": {},
   "outputs": [],
   "source": [
    "makes_twenty(10,20)"
   ]
  },
  {
   "cell_type": "code",
   "execution_count": null,
   "id": "altered-relationship",
   "metadata": {},
   "outputs": [],
   "source": [
    "makes_twenty(20,10)"
   ]
  },
  {
   "cell_type": "code",
   "execution_count": null,
   "id": "conceptual-price",
   "metadata": {},
   "outputs": [],
   "source": [
    "makes_twenty(12,8)"
   ]
  },
  {
   "cell_type": "code",
   "execution_count": null,
   "id": "substantial-eligibility",
   "metadata": {},
   "outputs": [],
   "source": [
    "makes_twenty(2,3)"
   ]
  },
  {
   "cell_type": "markdown",
   "id": "passive-reconstruction",
   "metadata": {},
   "source": [
    "OLD MACDONALD: Write a function that capitalizes the first and fourth letters of a name¶\n",
    "old_macdonald('macdonald') --> MacDonald\n",
    "\n",
    "Note: 'macdonald'.capitalize() returns 'Macdonald'"
   ]
  },
  {
   "cell_type": "code",
   "execution_count": null,
   "id": "broad-patrol",
   "metadata": {},
   "outputs": [],
   "source": [
    "def old_macdonald(name):\n",
    "    first_half=name[:3]\n",
    "    second_half=name[3:]\n",
    "    \n",
    "    return first_half.capitalize() + second_half.capitalize()\n"
   ]
  },
  {
   "cell_type": "code",
   "execution_count": null,
   "id": "peaceful-psychology",
   "metadata": {},
   "outputs": [],
   "source": [
    "old_macdonald('macdonald')"
   ]
  },
  {
   "cell_type": "markdown",
   "id": "analyzed-rental",
   "metadata": {},
   "source": [
    "MASTER YODA: Given a sentence, return a sentence with the words reversed\n",
    "master_yoda('I am home') --> 'home am I'\n",
    "master_yoda('We are ready') --> 'ready are We'"
   ]
  },
  {
   "cell_type": "code",
   "execution_count": null,
   "id": "distributed-coach",
   "metadata": {},
   "outputs": [],
   "source": [
    "def master_yoda(text):\n",
    "    wordlist=text.split()\n",
    "    reversed_wordlist = wordlist[::-1]\n",
    "    return reversed_wordlist\n",
    "    "
   ]
  },
  {
   "cell_type": "code",
   "execution_count": null,
   "id": "israeli-demographic",
   "metadata": {},
   "outputs": [],
   "source": [
    "master_yoda('I am home')"
   ]
  },
  {
   "cell_type": "code",
   "execution_count": null,
   "id": "magnetic-harrison",
   "metadata": {},
   "outputs": [],
   "source": [
    "master_yoda('we are ready')"
   ]
  },
  {
   "cell_type": "markdown",
   "id": "constant-venice",
   "metadata": {},
   "source": [
    "\n",
    "LEVEL 2 PROBLEMS\n",
    "FIND 33:\n",
    "Given a list of ints, return True if the array contains a 3 next to a 3 somewhere.\n",
    "\n",
    "has_33([1, 3, 3]) → True\n",
    "has_33([1, 3, 1, 3]) → False\n",
    "has_33([3, 1, 3]) → False"
   ]
  },
  {
   "cell_type": "code",
   "execution_count": null,
   "id": "talented-doctrine",
   "metadata": {},
   "outputs": [],
   "source": [
    "def has_33(nums):                          \n",
    "    for i in range(0,len(nums)-1):\n",
    "        if nums[i]==3 and nums[i+1]==3:\n",
    "            return True\n",
    "        \n",
    "    return False"
   ]
  },
  {
   "cell_type": "code",
   "execution_count": null,
   "id": "electronic-carpet",
   "metadata": {},
   "outputs": [],
   "source": [
    "has_33([1, 3, 3])"
   ]
  },
  {
   "cell_type": "code",
   "execution_count": null,
   "id": "expected-functionality",
   "metadata": {},
   "outputs": [],
   "source": [
    "has_33([1, 3, 1, 3])"
   ]
  },
  {
   "cell_type": "code",
   "execution_count": null,
   "id": "czech-southeast",
   "metadata": {},
   "outputs": [],
   "source": [
    "has_33([3, 1, 3])"
   ]
  },
  {
   "cell_type": "markdown",
   "id": "structural-twenty",
   "metadata": {},
   "source": [
    "ALMOST THERE: Given an integer n, return True if n is within 10 of either 100 or 200\n",
    "almost_there(90) --> True\n",
    "almost_there(104) --> True\n",
    "almost_there(150) --> False\n",
    "almost_there(209) --> Tru"
   ]
  },
  {
   "cell_type": "code",
   "execution_count": null,
   "id": "packed-walker",
   "metadata": {},
   "outputs": [],
   "source": [
    "def almost_there(n):\n",
    "    return ((abs(100 - n) <= 10) or (abs(200 - n) <= 10))"
   ]
  },
  {
   "cell_type": "code",
   "execution_count": null,
   "id": "constitutional-habitat",
   "metadata": {},
   "outputs": [],
   "source": [
    "almost_there(90)"
   ]
  },
  {
   "cell_type": "code",
   "execution_count": null,
   "id": "lucky-positive",
   "metadata": {},
   "outputs": [],
   "source": [
    "almost_there(104) "
   ]
  },
  {
   "cell_type": "code",
   "execution_count": null,
   "id": "incorrect-belarus",
   "metadata": {},
   "outputs": [],
   "source": [
    "almost_there(150)"
   ]
  },
  {
   "cell_type": "markdown",
   "id": "yellow-exclusive",
   "metadata": {},
   "source": [
    "PAPER DOLL: Given a string, return a string where for every character in the original there are three characters\n",
    "paper_doll('Hello') --> 'HHHeeellllllooo'\n",
    "paper_doll('Mississippi') --> 'MMMiiissssssiiippppppiii'"
   ]
  },
  {
   "cell_type": "code",
   "execution_count": null,
   "id": "stuck-addiction",
   "metadata": {},
   "outputs": [],
   "source": [
    "def paper_doll(text):\n",
    "    result = ''\n",
    "    for char in text:\n",
    "        result += char * 3\n",
    "    return result\n"
   ]
  },
  {
   "cell_type": "code",
   "execution_count": null,
   "id": "latest-argument",
   "metadata": {},
   "outputs": [],
   "source": [
    "paper_doll('Hello')"
   ]
  },
  {
   "cell_type": "code",
   "execution_count": null,
   "id": "acoustic-friendly",
   "metadata": {},
   "outputs": [],
   "source": [
    "paper_doll('Mississippi')"
   ]
  },
  {
   "cell_type": "markdown",
   "id": "happy-tomorrow",
   "metadata": {},
   "source": [
    "SUMMER OF '69: Return the sum of the numbers in the array, except ignore sections of numbers starting with a 6 and extending to the next 9 (every 6 will be followed by at least one 9). Return 0 for no numbers.¶\n",
    "summer_69([1, 3, 5]) --> 9\n",
    "summer_69([4, 5, 6, 7, 8, 9]) --> 9\n",
    "summer_69([2, 1, 6, 9, 11]) --> 14"
   ]
  },
  {
   "cell_type": "code",
   "execution_count": null,
   "id": "confused-carter",
   "metadata": {},
   "outputs": [],
   "source": [
    "def summer_69(arr):\n",
    "    total = 0\n",
    "    add = True\n",
    "    for num in arr:\n",
    "        while add:\n",
    "            if num != 6:\n",
    "                total += num\n",
    "                break\n",
    "            else:\n",
    "                add = False\n",
    "        while not add:\n",
    "            if num != 9:\n",
    "                break\n",
    "            else:\n",
    "                add = True\n",
    "                break\n",
    "    return total"
   ]
  },
  {
   "cell_type": "code",
   "execution_count": null,
   "id": "valid-charge",
   "metadata": {},
   "outputs": [],
   "source": [
    "summer_69([1, 3, 5])"
   ]
  },
  {
   "cell_type": "code",
   "execution_count": null,
   "id": "regulation-brisbane",
   "metadata": {},
   "outputs": [],
   "source": [
    "summer_69([4, 5, 6, 7, 8, 9])"
   ]
  },
  {
   "cell_type": "code",
   "execution_count": null,
   "id": "invisible-custom",
   "metadata": {},
   "outputs": [],
   "source": [
    "summer_69([2, 1, 6, 9, 11])"
   ]
  },
  {
   "cell_type": "markdown",
   "id": "ideal-universal",
   "metadata": {},
   "source": [
    "CHALLENGING PROBLEMS\n",
    "SPY GAME: Write a function that takes in a list of integers and returns True if it contains 007 in order\n",
    " spy_game([1,2,4,0,0,7,5]) --> True\n",
    " spy_game([1,0,2,4,0,5,7]) --> True\n",
    " spy_game([1,7,2,0,4,5,0]) --> Fals"
   ]
  },
  {
   "cell_type": "code",
   "execution_count": null,
   "id": "synthetic-passage",
   "metadata": {},
   "outputs": [],
   "source": [
    "def spy_game(nums):\n",
    "\n",
    "    code = [0,0,7,'x']\n",
    "    \n",
    "    for num in nums:\n",
    "        if num == code[0]:\n",
    "            code.pop(0)   # code.remove(num) also works\n",
    "       \n",
    "    return len(code) == 1"
   ]
  },
  {
   "cell_type": "code",
   "execution_count": null,
   "id": "downtown-helen",
   "metadata": {},
   "outputs": [],
   "source": [
    "spy_game([1,2,4,0,0,7,5])"
   ]
  },
  {
   "cell_type": "markdown",
   "id": "funded-arbor",
   "metadata": {},
   "source": [
    "\n",
    "COUNT PRIMES: Write a function that returns the number of prime numbers that exist up to and including a given number\n",
    "count_primes(100) --> 25\n",
    "\n",
    "By convention, 0 and 1 are not prime"
   ]
  },
  {
   "cell_type": "code",
   "execution_count": null,
   "id": "promising-manchester",
   "metadata": {},
   "outputs": [],
   "source": [
    "def count_primes(num):\n",
    "    primes = [2]\n",
    "    x = 3\n",
    "    if num < 2:  # for the case of num = 0 or 1\n",
    "        return 0\n",
    "    while x <= num:\n",
    "        for y in range(3,x,2):  # test all odd factors up to x-1\n",
    "            if x%y == 0:\n",
    "                x += 2\n",
    "                break\n",
    "        else:\n",
    "            primes.append(x)\n",
    "            x += 2\n",
    "    print(primes)\n",
    "    return len(primes)"
   ]
  },
  {
   "cell_type": "code",
   "execution_count": null,
   "id": "decent-maria",
   "metadata": {},
   "outputs": [],
   "source": [
    "count_primes(100)"
   ]
  },
  {
   "cell_type": "code",
   "execution_count": null,
   "id": "accompanied-internship",
   "metadata": {},
   "outputs": [],
   "source": [
    "def count_primes2(num):\n",
    "    primes = [2]\n",
    "    x = 3\n",
    "    if num < 2:\n",
    "        return 0\n",
    "    while x <= num:\n",
    "        for y in primes:  # use the primes list!\n",
    "            if x%y == 0:\n",
    "                x += 2\n",
    "                break\n",
    "        else:\n",
    "            primes.append(x)\n",
    "            x += 2\n",
    "    print(primes)\n",
    "    return len(primes)"
   ]
  },
  {
   "cell_type": "code",
   "execution_count": null,
   "id": "fallen-timer",
   "metadata": {},
   "outputs": [],
   "source": [
    "count_primes2(100)"
   ]
  },
  {
   "cell_type": "markdown",
   "id": "respective-gates",
   "metadata": {},
   "source": [
    "Just for fun, not a real problem :)\n",
    "PRINT BIG: Write a function that takes in a single letter, and returns a 5x5 representation of that letter\n",
    "print_big('a')\n",
    "\n",
    "out:   *  \n",
    "      * *\n",
    "     *****\n",
    "     *   *\n",
    "     *   *\n",
    "HINT: Consider making a dictionary of possible patterns, and mapping the alphabet to specific 5-line combinations of patterns.\n",
    "For purposes of this exercise, it's ok if your dictionary stops at \"E\"."
   ]
  },
  {
   "cell_type": "code",
   "execution_count": 2,
   "id": "cellular-piece",
   "metadata": {},
   "outputs": [],
   "source": [
    "def print_big(letter):\n",
    "    patterns = {1:'  *  ',2:' * * ',3:'*   *',4:'*****',5:'**** ',6:'   * ',7:' *   ',8:'*   * ',9:'*    '}\n",
    "    alphabet = {'A':[1,2,4,3,3],'B':[5,3,5,3,5],'C':[4,9,9,9,4],'D':[5,3,3,3,5],'E':[4,9,4,9,4]}\n",
    "    for pattern in alphabet[letter.upper()]:\n",
    "        print(patterns[pattern])"
   ]
  },
  {
   "cell_type": "code",
   "execution_count": 3,
   "id": "aggregate-subscriber",
   "metadata": {},
   "outputs": [
    {
     "name": "stdout",
     "output_type": "stream",
     "text": [
      "  *  \n",
      " * * \n",
      "*****\n",
      "*   *\n",
      "*   *\n"
     ]
    }
   ],
   "source": [
    "print_big('a')\n"
   ]
  },
  {
   "cell_type": "code",
   "execution_count": 4,
   "id": "controversial-chicken",
   "metadata": {},
   "outputs": [
    {
     "name": "stdout",
     "output_type": "stream",
     "text": [
      "**** \n",
      "*   *\n",
      "**** \n",
      "*   *\n",
      "**** \n"
     ]
    }
   ],
   "source": [
    "print_big('b')"
   ]
  },
  {
   "cell_type": "code",
   "execution_count": 14,
   "id": "asian-corner",
   "metadata": {},
   "outputs": [],
   "source": [
    "def print_big(letter):\n",
    "    patterns = {1:'  😀  ',2:' 😀 😀 ',3:'😀   😀',4:'😀😀😀',5:'😀😀😀 ',6:'   😀 ',7:' 😀   ',8:'😀   😀 ',9:'😀    '}\n",
    "    alphabet = {'A':[1,2,4,3,3],'B':[5,3,5,3,5],'C':[4,9,9,9,4],'D':[5,3,3,3,5],'E':[4,9,4,9,4]}\n",
    "    for pattern in alphabet[letter.upper()]:\n",
    "        print(patterns[pattern])"
   ]
  },
  {
   "cell_type": "code",
   "execution_count": 15,
   "id": "curious-decimal",
   "metadata": {
    "scrolled": true
   },
   "outputs": [
    {
     "name": "stdout",
     "output_type": "stream",
     "text": [
      "  😀  \n",
      " 😀 😀 \n",
      "😀😀😀\n",
      "😀   😀\n",
      "😀   😀\n"
     ]
    }
   ],
   "source": [
    "print_big('a')"
   ]
  },
  {
   "cell_type": "code",
   "execution_count": 16,
   "id": "initial-amount",
   "metadata": {},
   "outputs": [
    {
     "name": "stdout",
     "output_type": "stream",
     "text": [
      "😀😀😀 \n",
      "😀   😀\n",
      "😀😀😀 \n",
      "😀   😀\n",
      "😀😀😀 \n"
     ]
    }
   ],
   "source": [
    "print_big('b')"
   ]
  },
  {
   "cell_type": "code",
   "execution_count": 17,
   "id": "radio-trout",
   "metadata": {},
   "outputs": [
    {
     "name": "stdout",
     "output_type": "stream",
     "text": [
      "😀😀😀\n",
      "😀    \n",
      "😀    \n",
      "😀    \n",
      "😀😀😀\n"
     ]
    }
   ],
   "source": [
    "print_big('c')"
   ]
  },
  {
   "cell_type": "code",
   "execution_count": null,
   "id": "streaming-fluid",
   "metadata": {},
   "outputs": [],
   "source": []
  }
 ],
 "metadata": {
  "kernelspec": {
   "display_name": "Python 3",
   "language": "python",
   "name": "python3"
  },
  "language_info": {
   "codemirror_mode": {
    "name": "ipython",
    "version": 3
   },
   "file_extension": ".py",
   "mimetype": "text/x-python",
   "name": "python",
   "nbconvert_exporter": "python",
   "pygments_lexer": "ipython3",
   "version": "3.9.2"
  }
 },
 "nbformat": 4,
 "nbformat_minor": 5
}
