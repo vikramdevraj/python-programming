{
 "cells": [
  {
   "cell_type": "code",
   "execution_count": 17,
   "id": "rotary-fountain",
   "metadata": {},
   "outputs": [],
   "source": [
    "stock_prices=[('apple',200),('mango',100),('grapes',80)]\n"
   ]
  },
  {
   "cell_type": "code",
   "execution_count": 18,
   "id": "acquired-cassette",
   "metadata": {},
   "outputs": [
    {
     "name": "stdout",
     "output_type": "stream",
     "text": [
      "('apple', 200)\n",
      "('mango', 100)\n",
      "('grapes', 80)\n"
     ]
    }
   ],
   "source": [
    "for item in stock_prices: \n",
    "    print(item)"
   ]
  },
  {
   "cell_type": "code",
   "execution_count": 19,
   "id": "compatible-photography",
   "metadata": {},
   "outputs": [
    {
     "name": "stdout",
     "output_type": "stream",
     "text": [
      "220.0\n",
      "110.0\n",
      "88.0\n"
     ]
    }
   ],
   "source": [
    "for ticker,price in stock_price:\n",
    "    print(price+(0.1*price))"
   ]
  },
  {
   "cell_type": "code",
   "execution_count": 20,
   "id": "sitting-shadow",
   "metadata": {},
   "outputs": [],
   "source": [
    "work_hours=[('Iron man',600),('Superman',400),('Batman',900)]"
   ]
  },
  {
   "cell_type": "code",
   "execution_count": 25,
   "id": "finite-april",
   "metadata": {},
   "outputs": [],
   "source": [
    "def employee_check(work_hours):\n",
    "    current_max=0\n",
    "    employee_of_month=''\n",
    "    \n",
    "    for employee,hours in work_hours:\n",
    "        if hours > current_max:\n",
    "            current_max=hours\n",
    "            employee_of_month=employee\n",
    "        else:\n",
    "            pass\n",
    "        \n",
    "    return (employee_of_month,current_max)"
   ]
  },
  {
   "cell_type": "code",
   "execution_count": 26,
   "id": "intense-aggregate",
   "metadata": {},
   "outputs": [
    {
     "data": {
      "text/plain": [
       "('Batman', 900)"
      ]
     },
     "execution_count": 26,
     "metadata": {},
     "output_type": "execute_result"
    }
   ],
   "source": [
    "employee_check(work_hours)   #m1"
   ]
  },
  {
   "cell_type": "code",
   "execution_count": 28,
   "id": "enhanced-cleanup",
   "metadata": {},
   "outputs": [
    {
     "data": {
      "text/plain": [
       "('Batman', 900)"
      ]
     },
     "execution_count": 28,
     "metadata": {},
     "output_type": "execute_result"
    }
   ],
   "source": [
    "result=employee_check(work_hours)   #m2\n",
    "result"
   ]
  },
  {
   "cell_type": "code",
   "execution_count": 29,
   "id": "theoretical-ability",
   "metadata": {},
   "outputs": [],
   "source": [
    "name,hours=employee_check(work_hours)"
   ]
  },
  {
   "cell_type": "code",
   "execution_count": 30,
   "id": "prescribed-explosion",
   "metadata": {},
   "outputs": [
    {
     "data": {
      "text/plain": [
       "('Batman', 900)"
      ]
     },
     "execution_count": 30,
     "metadata": {},
     "output_type": "execute_result"
    }
   ],
   "source": [
    "result"
   ]
  },
  {
   "cell_type": "code",
   "execution_count": 31,
   "id": "collective-builder",
   "metadata": {},
   "outputs": [
    {
     "data": {
      "text/plain": [
       "'Batman'"
      ]
     },
     "execution_count": 31,
     "metadata": {},
     "output_type": "execute_result"
    }
   ],
   "source": [
    "name"
   ]
  },
  {
   "cell_type": "code",
   "execution_count": 32,
   "id": "instant-capital",
   "metadata": {},
   "outputs": [
    {
     "data": {
      "text/plain": [
       "900"
      ]
     },
     "execution_count": 32,
     "metadata": {},
     "output_type": "execute_result"
    }
   ],
   "source": [
    "hours"
   ]
  },
  {
   "cell_type": "code",
   "execution_count": 33,
   "id": "macro-omaha",
   "metadata": {},
   "outputs": [],
   "source": [
    "item=employee_check(work_hours)"
   ]
  },
  {
   "cell_type": "code",
   "execution_count": 34,
   "id": "illegal-fireplace",
   "metadata": {},
   "outputs": [
    {
     "data": {
      "text/plain": [
       "('Batman', 900)"
      ]
     },
     "execution_count": 34,
     "metadata": {},
     "output_type": "execute_result"
    }
   ],
   "source": [
    "item"
   ]
  },
  {
   "cell_type": "code",
   "execution_count": null,
   "id": "competent-filter",
   "metadata": {},
   "outputs": [],
   "source": []
  }
 ],
 "metadata": {
  "kernelspec": {
   "display_name": "Python 3",
   "language": "python",
   "name": "python3"
  },
  "language_info": {
   "codemirror_mode": {
    "name": "ipython",
    "version": 3
   },
   "file_extension": ".py",
   "mimetype": "text/x-python",
   "name": "python",
   "nbconvert_exporter": "python",
   "pygments_lexer": "ipython3",
   "version": "3.9.2"
  }
 },
 "nbformat": 4,
 "nbformat_minor": 5
}
