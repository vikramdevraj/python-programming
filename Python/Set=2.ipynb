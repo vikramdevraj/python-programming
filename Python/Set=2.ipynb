{
 "cells": [
  {
   "cell_type": "raw",
   "metadata": {},
   "source": [
    "Question 23\n",
    "level 1\n",
    "\n",
    "Question:\n",
    "    Write a method which can calculate square value of number\n",
    "\n",
    "Hints:\n",
    "    Using the ** operator"
   ]
  },
  {
   "cell_type": "code",
   "execution_count": 1,
   "metadata": {},
   "outputs": [
    {
     "name": "stdout",
     "output_type": "stream",
     "text": [
      "enter a number4\n",
      "square of 4 of 16\n"
     ]
    }
   ],
   "source": [
    "def square():\n",
    "    digit=int(input('enter a number'))\n",
    "    square=digit**2\n",
    "    print(f\"square of {digit} of {square}\")\n",
    "    \n",
    "square()\n",
    "#alternate\n"
   ]
  },
  {
   "cell_type": "code",
   "execution_count": 29,
   "metadata": {},
   "outputs": [
    {
     "name": "stdout",
     "output_type": "stream",
     "text": [
      "23\n",
      "3\n"
     ]
    },
    {
     "data": {
      "text/plain": [
       "26"
      ]
     },
     "execution_count": 29,
     "metadata": {},
     "output_type": "execute_result"
    }
   ],
   "source": [
    "def add(x,y): # here the function takes ur defined variable and use this variable inside function\n",
    "    return x+y\n",
    "\n",
    "a=int(input())\n",
    "b=int(input())\n",
    "add(a,b)"
   ]
  },
  {
   "cell_type": "code",
   "execution_count": 17,
   "metadata": {},
   "outputs": [
    {
     "name": "stdout",
     "output_type": "stream",
     "text": [
      "Enter a number to get its square 23\n",
      "Square of 23 is 529\n"
     ]
    }
   ],
   "source": [
    "    \n",
    "def calculateSquare():\n",
    "    num= int(input('Enter a number to get its square '))\n",
    "    print(\"Square of\",num,\"is\",num*num)\n",
    "\n",
    "\n",
    "calculateSquare()"
   ]
  },
  {
   "cell_type": "code",
   "execution_count": 2,
   "metadata": {},
   "outputs": [
    {
     "name": "stdout",
     "output_type": "stream",
     "text": [
      "Enter a number to get its square 6\n",
      "Square of 6 is 36\n"
     ]
    }
   ],
   "source": [
    "def calculateSquare():\n",
    "    num= int(input('Enter a number to get its square '))\n",
    "    print(\"Square of\",num,\"is\",num*num)\n",
    "\n",
    "calculateSquare()"
   ]
  },
  {
   "cell_type": "raw",
   "metadata": {},
   "source": [
    "\n",
    "#----------------------------------------#\n",
    "Question:\n",
    "Define a function that can convert a integer into a string and print it in console.\n",
    "\n",
    "Hints:\n",
    "\n",
    "Use str() to convert a number to string.\n"
   ]
  },
  {
   "cell_type": "code",
   "execution_count": 30,
   "metadata": {},
   "outputs": [
    {
     "data": {
      "text/plain": [
       "'123'"
      ]
     },
     "execution_count": 30,
     "metadata": {},
     "output_type": "execute_result"
    }
   ],
   "source": [
    "num=123\n",
    "num_as_string=str(num)\n",
    "num_as_string"
   ]
  },
  {
   "cell_type": "raw",
   "metadata": {},
   "source": [
    "#----------------------------------------#\n",
    "Question:\n",
    "Define a function that can convert a integer into a string and print it in console.\n",
    "\n",
    "Hints:\n",
    "\n",
    "Use str() to convert a number to string.\n"
   ]
  },
  {
   "cell_type": "code",
   "execution_count": 16,
   "metadata": {},
   "outputs": [],
   "source": [
    "def integer_into_string():\n",
    "    num=123\n",
    "    num_as_string=str(num)\n",
    "integer_into_string()"
   ]
  },
  {
   "cell_type": "code",
   "execution_count": null,
   "metadata": {},
   "outputs": [],
   "source": []
  },
  {
   "cell_type": "raw",
   "metadata": {},
   "source": [
    "Question:\n",
    "Define a function which can compute the sum of two numbers.\n",
    "\n",
    "Hints:\n",
    "Define a function with two numbers as arguments. You can compute the sum in the function and return the value."
   ]
  },
  {
   "cell_type": "code",
   "execution_count": 34,
   "metadata": {},
   "outputs": [
    {
     "name": "stdout",
     "output_type": "stream",
     "text": [
      "67\n",
      "87\n"
     ]
    },
    {
     "data": {
      "text/plain": [
       "154"
      ]
     },
     "execution_count": 34,
     "metadata": {},
     "output_type": "execute_result"
    }
   ],
   "source": [
    "def add(x,y): \n",
    "    return x+y\n",
    "\n",
    "a=int(input())\n",
    "b=int(input())\n",
    "add(a,b)"
   ]
  },
  {
   "cell_type": "code",
   "execution_count": null,
   "metadata": {},
   "outputs": [],
   "source": []
  },
  {
   "cell_type": "raw",
   "metadata": {},
   "source": [
    "#----------------------------------------#\n",
    "2.10\n",
    "\n",
    "\n",
    "Question:\n",
    "Define a function that can accept two strings as input and concatenate them and then print it in console.\n",
    "\n",
    "Hints:\n",
    "\n",
    "Use + to concatenate the strings\n"
   ]
  },
  {
   "cell_type": "code",
   "execution_count": 11,
   "metadata": {},
   "outputs": [
    {
     "name": "stdout",
     "output_type": "stream",
     "text": [
      "ApplePie\n"
     ]
    }
   ],
   "source": [
    "s1 = 'Apple'\n",
    "s2 = 'Pie'\n",
    "\n",
    "\n",
    "s3 = s1 + s2 \n",
    "\n",
    "print(s3)"
   ]
  },
  {
   "cell_type": "code",
   "execution_count": 15,
   "metadata": {},
   "outputs": [
    {
     "name": "stdout",
     "output_type": "stream",
     "text": [
      "applepie\n"
     ]
    }
   ],
   "source": [
    "def printValue(s1,s2):\n",
    "    s1='apple'\n",
    "    s2='pie'\n",
    "    \n",
    "    print (s1+s2)\n",
    "\n",
    "printValue(\"3\",\"4\")"
   ]
  },
  {
   "cell_type": "raw",
   "metadata": {},
   "source": [
    "#----------------------------------------#\n",
    "2.10\n",
    "\n",
    "\n",
    "Question:\n",
    "Define a function that can accept two strings as input and print the string with maximum length in console. If two strings have the same length, then the function should print al l strings line by line.\n",
    "\n",
    "Hints:\n",
    "\n",
    "Use len() function to get the length of a string\n",
    "\n"
   ]
  },
  {
   "cell_type": "code",
   "execution_count": 29,
   "metadata": {},
   "outputs": [
    {
     "name": "stdout",
     "output_type": "stream",
     "text": [
      "vikram\n",
      "devraj\n"
     ]
    }
   ],
   "source": [
    "def maximum_length(x,y):\n",
    " len1 = len(x)\n",
    " len2 = len(y)\n",
    " if len1>len2:\n",
    "      print (x)\n",
    " elif len2>len1:\n",
    "      print (y)\n",
    " else:\n",
    "    print (x)\n",
    "    print (y)\n",
    "  \n",
    "maximum_length(\"vikram\",\"devraj\")"
   ]
  },
  {
   "cell_type": "raw",
   "metadata": {},
   "source": [
    "#----------------------------------------#\n",
    "2.10\n",
    "\n",
    "Question:\n",
    "Define a function that can accept an integer number as input and print the \"It is an even number\" if the number is even, otherwise print \"It is an odd number\".\n",
    "\n",
    "Hints:\n",
    "\n",
    "Use % operator to check if a number is even or odd.\n"
   ]
  },
  {
   "cell_type": "code",
   "execution_count": 57,
   "metadata": {},
   "outputs": [
    {
     "name": "stdout",
     "output_type": "stream",
     "text": [
      "number is even\n"
     ]
    }
   ],
   "source": [
    "def even_or_odd(n):\n",
    "    \n",
    "    if n%2 == 0:\n",
    "        print (\"number is even\")\n",
    "    else:\n",
    "        print (\"number is odd\")\n",
    "  \n",
    "\n",
    "even_or_odd(8)"
   ]
  },
  {
   "cell_type": "raw",
   "metadata": {},
   "source": [
    "#----------------------------------------#\n",
    "2.10\n",
    "\n",
    "Question:\n",
    "Define a function which can print a dictionary where the keys are numbers between 1 and 3 (both included) and the values are square of keys.\n",
    "\n",
    "Hints:\n",
    "\n",
    "Use dict[key]=value pattern to put entry into a dictionary.\n",
    "Use ** operator to get power of a number.\n",
    "\n",
    "\n"
   ]
  },
  {
   "cell_type": "code",
   "execution_count": 71,
   "metadata": {},
   "outputs": [
    {
     "name": "stdout",
     "output_type": "stream",
     "text": [
      "{1: 1, 2: 4, 3: 9}\n"
     ]
    }
   ],
   "source": [
    "def sq_of_keys():\n",
    "    d=dict()\n",
    "    d[1]=1**1\n",
    "    d[2]=2**2\n",
    "    d[3]=3**2\n",
    "    print(d)\n",
    "        \n",
    "sq_of_keys()"
   ]
  },
  {
   "cell_type": "raw",
   "metadata": {},
   "source": [
    "#----------------------------------------#\n",
    "2.10\n",
    "\n",
    "Question:\n",
    "Define a function which can generate a list where the values are square of numbers between 1 and 20 (both included). Then the function needs to print the first 5 elements in the list.\n",
    "\n",
    "Hints:\n",
    "\n",
    "Use ** operator to get power of a number.\n",
    "Use range() for loops.\n",
    "Use list.append() to add values into a list.\n",
    "Use [n1:n2] to slice a list\n"
   ]
  },
  {
   "cell_type": "code",
   "execution_count": 66,
   "metadata": {},
   "outputs": [
    {
     "name": "stdout",
     "output_type": "stream",
     "text": [
      "[1]\n",
      "[1, 4]\n",
      "[1, 4, 9]\n",
      "[1, 4, 9, 16]\n",
      "[1, 4, 9, 16, 25]\n",
      "[1, 4, 9, 16, 25]\n",
      "[1, 4, 9, 16, 25]\n",
      "[1, 4, 9, 16, 25]\n",
      "[1, 4, 9, 16, 25]\n",
      "[1, 4, 9, 16, 25]\n",
      "[1, 4, 9, 16, 25]\n",
      "[1, 4, 9, 16, 25]\n",
      "[1, 4, 9, 16, 25]\n",
      "[1, 4, 9, 16, 25]\n",
      "[1, 4, 9, 16, 25]\n",
      "[1, 4, 9, 16, 25]\n",
      "[1, 4, 9, 16, 25]\n",
      "[1, 4, 9, 16, 25]\n",
      "[1, 4, 9, 16, 25]\n",
      "[1, 4, 9, 16, 25]\n"
     ]
    }
   ],
   "source": [
    "def square_List():\n",
    "    li=list()\n",
    "    for i in range(1,21):\n",
    "        li.append(i**2)\n",
    "        print(li[:5])\n",
    "\n",
    "square_List()"
   ]
  },
  {
   "cell_type": "raw",
   "metadata": {},
   "source": [
    "#----------------------------------------#\n",
    "2.10\n",
    "\n",
    "Question:\n",
    "Define a function which can generate and print a list where the values are square of numbers between 1 and 20 (both included).\n",
    "\n",
    "Hints:\n",
    "\n",
    "Use ** operator to get power of a number.\n",
    "Use range() for loops.\n",
    "Use list.append() to add values into a list.\n"
   ]
  },
  {
   "cell_type": "code",
   "execution_count": 64,
   "metadata": {},
   "outputs": [
    {
     "name": "stdout",
     "output_type": "stream",
     "text": [
      "[1]\n",
      "[1, 4]\n",
      "[1, 4, 9]\n",
      "[1, 4, 9, 16]\n",
      "[1, 4, 9, 16, 25]\n",
      "[1, 4, 9, 16, 25, 36]\n",
      "[1, 4, 9, 16, 25, 36, 49]\n",
      "[1, 4, 9, 16, 25, 36, 49, 64]\n",
      "[1, 4, 9, 16, 25, 36, 49, 64, 81]\n",
      "[1, 4, 9, 16, 25, 36, 49, 64, 81, 100]\n",
      "[1, 4, 9, 16, 25, 36, 49, 64, 81, 100, 121]\n",
      "[1, 4, 9, 16, 25, 36, 49, 64, 81, 100, 121, 144]\n",
      "[1, 4, 9, 16, 25, 36, 49, 64, 81, 100, 121, 144, 169]\n",
      "[1, 4, 9, 16, 25, 36, 49, 64, 81, 100, 121, 144, 169, 196]\n",
      "[1, 4, 9, 16, 25, 36, 49, 64, 81, 100, 121, 144, 169, 196, 225]\n",
      "[1, 4, 9, 16, 25, 36, 49, 64, 81, 100, 121, 144, 169, 196, 225, 256]\n",
      "[1, 4, 9, 16, 25, 36, 49, 64, 81, 100, 121, 144, 169, 196, 225, 256, 289]\n",
      "[1, 4, 9, 16, 25, 36, 49, 64, 81, 100, 121, 144, 169, 196, 225, 256, 289, 324]\n",
      "[1, 4, 9, 16, 25, 36, 49, 64, 81, 100, 121, 144, 169, 196, 225, 256, 289, 324, 361]\n",
      "[1, 4, 9, 16, 25, 36, 49, 64, 81, 100, 121, 144, 169, 196, 225, 256, 289, 324, 361, 400]\n"
     ]
    }
   ],
   "source": [
    "def printList():\n",
    "    li=list()\n",
    "    for i in range(1,21):\n",
    "        li.append(i**2)\n",
    "        print(li)\n",
    "\n",
    "printList()"
   ]
  },
  {
   "cell_type": "raw",
   "metadata": {},
   "source": [
    "#----------------------------------------#\n",
    "2.10\n",
    "\n",
    "Question:\n",
    "Define a function which can generate a dictionary where the keys are numbers between 1 and 20 (both included) and the values are square of keys. The function should just print the keys only.\n",
    "\n",
    "Hints:\n",
    "\n",
    "Use dict[key]=value pattern to put entry into a dictionary.\n",
    "Use ** operator to get power of a number.\n",
    "Use range() for loops.\n",
    "Use keys() to iterate keys in the dictionary. Also we can use item() to get key/value pairs.\n",
    "\n"
   ]
  },
  {
   "cell_type": "code",
   "execution_count": 54,
   "metadata": {},
   "outputs": [
    {
     "name": "stdout",
     "output_type": "stream",
     "text": [
      "{1: 1, 2: 4, 3: 9, 4: 16, 5: 25, 6: 36, 7: 49, 8: 64, 9: 81, 10: 100, 11: 121, 12: 144, 13: 169, 14: 196, 15: 225, 16: 256, 17: 289, 18: 324, 19: 361, 20: 400}\n"
     ]
    }
   ],
   "source": [
    "def Dict():\n",
    "    mydict = {i: i**2 for i in range(1, 21)}\n",
    "    print(mydict)     \n",
    "\n",
    "Dict()"
   ]
  },
  {
   "cell_type": "code",
   "execution_count": null,
   "metadata": {},
   "outputs": [],
   "source": []
  },
  {
   "cell_type": "code",
   "execution_count": null,
   "metadata": {},
   "outputs": [],
   "source": []
  },
  {
   "cell_type": "code",
   "execution_count": null,
   "metadata": {},
   "outputs": [],
   "source": []
  }
 ],
 "metadata": {
  "kernelspec": {
   "display_name": "Python 3",
   "language": "python",
   "name": "python3"
  },
  "language_info": {
   "codemirror_mode": {
    "name": "ipython",
    "version": 3
   },
   "file_extension": ".py",
   "mimetype": "text/x-python",
   "name": "python",
   "nbconvert_exporter": "python",
   "pygments_lexer": "ipython3",
   "version": "3.9.2"
  }
 },
 "nbformat": 4,
 "nbformat_minor": 4
}
