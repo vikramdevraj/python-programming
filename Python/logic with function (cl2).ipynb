{
 "cells": [
  {
   "cell_type": "code",
   "execution_count": null,
   "id": "early-flooring",
   "metadata": {},
   "outputs": [],
   "source": [
    "2%2"
   ]
  },
  {
   "cell_type": "code",
   "execution_count": null,
   "id": "continuing-newman",
   "metadata": {},
   "outputs": [],
   "source": [
    "3%2"
   ]
  },
  {
   "cell_type": "code",
   "execution_count": null,
   "id": "neither-probability",
   "metadata": {},
   "outputs": [],
   "source": [
    "41%40"
   ]
  },
  {
   "cell_type": "code",
   "execution_count": null,
   "id": "statistical-darkness",
   "metadata": {},
   "outputs": [],
   "source": [
    "20%2  #even "
   ]
  },
  {
   "cell_type": "code",
   "execution_count": null,
   "id": "incident-genre",
   "metadata": {},
   "outputs": [],
   "source": [
    "41%40==0"
   ]
  },
  {
   "cell_type": "code",
   "execution_count": null,
   "id": "interior-ranking",
   "metadata": {},
   "outputs": [],
   "source": [
    "20%2==0 #even"
   ]
  },
  {
   "cell_type": "code",
   "execution_count": null,
   "id": "bottom-difficulty",
   "metadata": {},
   "outputs": [],
   "source": [
    "21%2==0 #odd"
   ]
  },
  {
   "cell_type": "code",
   "execution_count": null,
   "id": "adopted-representation",
   "metadata": {},
   "outputs": [],
   "source": [
    "def even_check(number):   #m1\n",
    "    result=number%2==0\n",
    "    return result\n"
   ]
  },
  {
   "cell_type": "code",
   "execution_count": null,
   "id": "median-extra",
   "metadata": {},
   "outputs": [],
   "source": [
    "even_check(20)"
   ]
  },
  {
   "cell_type": "code",
   "execution_count": null,
   "id": "minute-cyprus",
   "metadata": {},
   "outputs": [],
   "source": [
    "even_check(21)"
   ]
  },
  {
   "cell_type": "code",
   "execution_count": null,
   "id": "macro-design",
   "metadata": {},
   "outputs": [],
   "source": [
    "def even_check(number):  # m2\n",
    "    return number%2==0\n",
    "    \n"
   ]
  },
  {
   "cell_type": "code",
   "execution_count": null,
   "id": "equivalent-frame",
   "metadata": {},
   "outputs": [],
   "source": [
    "even_check(20)"
   ]
  },
  {
   "cell_type": "code",
   "execution_count": null,
   "id": "noted-punishment",
   "metadata": {},
   "outputs": [],
   "source": [
    "even_check(21)"
   ]
  },
  {
   "cell_type": "code",
   "execution_count": null,
   "id": "textile-antique",
   "metadata": {},
   "outputs": [],
   "source": [
    "# return true if any no. is even inside a list"
   ]
  },
  {
   "cell_type": "code",
   "execution_count": null,
   "id": "known-pasta",
   "metadata": {},
   "outputs": [],
   "source": [
    "def check_even_list(num_list):\n",
    "    for number in num_list:\n",
    "        \n",
    "        if number %2 ==0:\n",
    "            return True\n",
    "        else:\n",
    "             return False\n",
    "# make a list in range 1 to 10\n",
    "# and o/p num=even/odd"
   ]
  },
  {
   "cell_type": "code",
   "execution_count": null,
   "id": "communist-universal",
   "metadata": {},
   "outputs": [],
   "source": [
    "check_even_list([2,4,5])"
   ]
  },
  {
   "cell_type": "code",
   "execution_count": null,
   "id": "hawaiian-academy",
   "metadata": {},
   "outputs": [],
   "source": [
    "check_even_list([3,5,7])"
   ]
  },
  {
   "cell_type": "code",
   "execution_count": null,
   "id": "cross-applicant",
   "metadata": {},
   "outputs": [],
   "source": [
    "check_even_list([2,1,1,1])"
   ]
  },
  {
   "cell_type": "code",
   "execution_count": null,
   "id": "impressive-warren",
   "metadata": {},
   "outputs": [],
   "source": [
    "def even_or_odd():\n",
    "    \n",
    "    \n",
    "user input range ka 1 value till how much  u wanna check"
   ]
  },
  {
   "cell_type": "code",
   "execution_count": null,
   "id": "material-barrel",
   "metadata": {},
   "outputs": [],
   "source": [
    "list_of_number = [1,2,3,4,5,6,7,8,9,10]\n",
    "\n",
    "for i in list_of_number:\n",
    "    if i%2 == 0 and i!=1:\n",
    "        print(f'{i} is even')\n",
    "    elif i==1:\n",
    "        print(f'{i} is odd')\n",
    "    else:\n",
    "        print(f'{i} is odd')\n",
    "            \n",
    "    \n",
    "    \n",
    "# start = int(input(\"Enter the start of range: \"))\n",
    "# end = int(input(\"Enter the end of range: \"))\n",
    "  \n",
    "# even_list = list(range(start, end + 1)[start%2==0])\n",
    "# odd_list = list(range(start,end+1)[start%2==0])\n",
    "  \n",
    "# if num in even_list:\n",
    "#     print(num, end = \" \")\n",
    "# elif num in odd_list:\n",
    "#         print(num,end=\" \")\n",
    "# else:\n",
    "#     pass\n",
    "        "
   ]
  },
  {
   "cell_type": "code",
   "execution_count": null,
   "id": "related-flash",
   "metadata": {},
   "outputs": [],
   "source": [
    "def check_even_or_odd():\n",
    "    num = int(input(\"Enter a number: \"))\n",
    "    if (num % 2) == 0:\n",
    "        print((\"{} is Even number\").format(num))\n",
    "    else:\n",
    "        print((\"{} is Odd number\").format(num))\n",
    "\n",
    "check_even_or_odd()"
   ]
  },
  {
   "cell_type": "code",
   "execution_count": 3,
   "id": "extensive-planner",
   "metadata": {},
   "outputs": [
    {
     "name": "stdout",
     "output_type": "stream",
     "text": [
      "Enter Your range : 10\n",
      "1 is odd\n",
      "2 is even\n",
      "3 is odd\n",
      "4 is even\n",
      "5 is odd\n",
      "6 is even\n",
      "7 is odd\n",
      "8 is even\n",
      "9 is odd\n",
      "10 is even\n"
     ]
    }
   ],
   "source": [
    "def check_even_or_odd(N):\n",
    "    N=int(input('Enter Your range : '))  \n",
    "    list_of_number=[]\n",
    "    for x in range(1,N+1):\n",
    "        list_of_number.append(x)\n",
    "    \n",
    "    for i in list_of_number:\n",
    "        if i%2 == 0 and i!=1:\n",
    "            print(f'{i} is even')\n",
    "        elif i==1:\n",
    "            print(f'{i} is odd')\n",
    "        else:\n",
    "            print(f'{i} is odd')\n",
    "            \n",
    "\n",
    "            \n",
    "check_even_or_odd(N)"
   ]
  },
  {
   "cell_type": "code",
   "execution_count": 4,
   "id": "textile-puppy",
   "metadata": {},
   "outputs": [],
   "source": [
    "def check_even_list(num_list):\n",
    "    even_number=[]\n",
    "    for number in num_list:\n",
    "        if number %2 ==0:\n",
    "            even_number.append(number)\n",
    "            \n",
    "        else:\n",
    "             pass\n",
    "    return even_number"
   ]
  },
  {
   "cell_type": "code",
   "execution_count": 5,
   "id": "female-tuition",
   "metadata": {},
   "outputs": [
    {
     "data": {
      "text/plain": [
       "[6]"
      ]
     },
     "execution_count": 5,
     "metadata": {},
     "output_type": "execute_result"
    }
   ],
   "source": [
    "check_even_list([1,3,5,6])"
   ]
  },
  {
   "cell_type": "code",
   "execution_count": 6,
   "id": "golden-group",
   "metadata": {},
   "outputs": [
    {
     "data": {
      "text/plain": [
       "[2, 4]"
      ]
     },
     "execution_count": 6,
     "metadata": {},
     "output_type": "execute_result"
    }
   ],
   "source": [
    "check_even_list([1,2,3,4,5])"
   ]
  },
  {
   "cell_type": "code",
   "execution_count": null,
   "id": "quality-bundle",
   "metadata": {},
   "outputs": [],
   "source": []
  }
 ],
 "metadata": {
  "kernelspec": {
   "display_name": "Python 3",
   "language": "python",
   "name": "python3"
  },
  "language_info": {
   "codemirror_mode": {
    "name": "ipython",
    "version": 3
   },
   "file_extension": ".py",
   "mimetype": "text/x-python",
   "name": "python",
   "nbconvert_exporter": "python",
   "pygments_lexer": "ipython3",
   "version": "3.9.2"
  }
 },
 "nbformat": 4,
 "nbformat_minor": 5
}
