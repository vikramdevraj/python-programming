{
 "cells": [
  {
   "cell_type": "code",
   "execution_count": null,
   "id": "encouraging-income",
   "metadata": {},
   "outputs": [],
   "source": [
    "def reverse_string(str):\n",
    "    str1=\"\" #declaring empty string to store reversed string\n",
    "    for i in str:\n",
    "        str1= i+str1\n",
    "    return str1  #it will return the reverse string to the caller function\n",
    "str=\"vikram\"   # given string\n",
    "print(\"The original string is:\",str)\n",
    "print(\"the reverse string is:\",reverse_string(str) ) #function call\n",
    "  "
   ]
  },
  {
   "cell_type": "markdown",
   "id": "hybrid-reaction",
   "metadata": {},
   "source": [
    "// A quickly written program for reversing a string\n",
    "// using reverse()\n",
    "#include <bits/stdc++.h>\n",
    "#include <algorithm>\n",
    "using namespace std;\n",
    "\n",
    "int main()\n",
    "{\n",
    "    string str = \"geeksforgeeks\";\n",
    "  \n",
    "    // Reverse str[begin..end]\n",
    "    reverse(str.begin(), str.end());\n",
    "  \n",
    "    cout << str;\n",
    "    return 0;\n",
    "}"
   ]
  },
  {
   "cell_type": "code",
   "execution_count": null,
   "id": "parental-print",
   "metadata": {},
   "outputs": [],
   "source": [
    "def Reverse_Integer(Number):\n",
    "    Reverse = 0\n",
    "    while(Number > 0):\n",
    "        Reminder = Number %10\n",
    "        Reverse = (Reverse *10) + Reminder\n",
    "        Number = Number //10\n",
    "    return Reverse\n",
    "\n",
    "Number = int(input(\"Please Enter any Number: \"))\n",
    "Reverse = Reverse_Integer(Number)\n",
    "print(\"\\n Reverse of entered number is = %d\" %Reverse)"
   ]
  },
  {
   "cell_type": "code",
   "execution_count": 2,
   "id": "outer-luxembourg",
   "metadata": {},
   "outputs": [
    {
     "name": "stdout",
     "output_type": "stream",
     "text": [
      "PALINDROME \n"
     ]
    }
   ],
   "source": [
    "str = 'sis'  \n",
    "strstr = str.casefold()  \n",
    "  \n",
    "# This string is reverse.  \n",
    "rev = reversed(str)  \n",
    "  \n",
    "if list(str) == list(rev):  \n",
    "   print(\"PALINDROME \")  \n",
    "else:  \n",
    "   print(\"NOT PALINDROME !\")"
   ]
  },
  {
   "cell_type": "code",
   "execution_count": 1,
   "id": "secret-deployment",
   "metadata": {},
   "outputs": [
    {
     "name": "stdout",
     "output_type": "stream",
     "text": [
      "Enter a letter:bob\n",
      "The letter is a palindrome\n"
     ]
    }
   ],
   "source": [
    "string=input((\"Enter a letter:\"))  \n",
    "if(string==string[::-1]):  \n",
    "      print(\"The letter is a palindrome\")  \n",
    "else:  \n",
    "      print(\"The letter is not a palindrome\") "
   ]
  },
  {
   "cell_type": "code",
   "execution_count": 3,
   "id": "armed-lender",
   "metadata": {},
   "outputs": [
    {
     "name": "stdout",
     "output_type": "stream",
     "text": [
      "Enter a number:878\n",
      "The number is a palindrome\n"
     ]
    }
   ],
   "source": [
    "string=input((\"Enter a number:\"))  \n",
    "if(string==string[::-1]):  \n",
    "      print(\"The number is a palindrome\")  \n",
    "else:  \n",
    "      print(\"The number is not a palindrome\") "
   ]
  },
  {
   "cell_type": "code",
   "execution_count": 17,
   "id": "prospective-window",
   "metadata": {},
   "outputs": [
    {
     "name": "stdout",
     "output_type": "stream",
     "text": [
      "407 is not a prime number\n",
      "11 times 37 is 407\n"
     ]
    }
   ],
   "source": [
    "# Program to check if a number is prime or not\n",
    "\n",
    "num =407\n",
    "\n",
    "# To take input from the user\n",
    "#num = int(input(\"Enter a number: \"))\n",
    "\n",
    "# prime numbers are greater than 1\n",
    "if num > 1:\n",
    "   # check for factors\n",
    "   for i in range(2,num):\n",
    "       if (num % i) == 0:\n",
    "           print(num,\"is not a prime number\")\n",
    "           print(i,\"times\",num//i,\"is\",num)\n",
    "           break\n",
    "   else:\n",
    "       print(num,\"is a prime number\")\n",
    "       \n",
    "# if input number is less than\n",
    "# or equal to 1, it is not prime\n",
    "else:\n",
    "   print(num,\"is not a prime number\")\n"
   ]
  },
  {
   "cell_type": "code",
   "execution_count": 21,
   "id": "tutorial-coaching",
   "metadata": {},
   "outputs": [
    {
     "name": "stdout",
     "output_type": "stream",
     "text": [
      "Enter first number: 12\n",
      "Enter second number: 20\n",
      "The L.C.M. of 12 and 20 is 60\n"
     ]
    }
   ],
   "source": [
    "def lcm(x, y):    # lcm of two no \n",
    "   if x > y:  \n",
    "       greater = x  \n",
    "   else:  \n",
    "       greater = y  \n",
    "   while(True):  \n",
    "       if((greater % x == 0) and (greater % y == 0)):  \n",
    "           lcm = greater  \n",
    "           break  \n",
    "       greater += 1  \n",
    "   return lcm  \n",
    "  \n",
    "  \n",
    "num1 = int(input(\"Enter first number: \"))  \n",
    "num2 = int(input(\"Enter second number: \"))  \n",
    "print(\"The L.C.M. of\", num1,\"and\", num2,\"is\", lcm(num1, num2)) "
   ]
  },
  {
   "cell_type": "code",
   "execution_count": 22,
   "id": "permanent-rocket",
   "metadata": {},
   "outputs": [
    {
     "name": "stdout",
     "output_type": "stream",
     "text": [
      "Enter first number: 24\n",
      "Enter second number: 54\n",
      "The H.C.F. of 24 and 54 is 6\n"
     ]
    }
   ],
   "source": [
    "def hcf(x, y):  \n",
    "   if x > y:  \n",
    "       smaller = y  \n",
    "   else:  \n",
    "       smaller = x  \n",
    "   for i in range(1,smaller + 1):  \n",
    "       if((x % i == 0) and (y % i == 0)):  \n",
    "           hcf = i  \n",
    "   return hcf  \n",
    "  \n",
    "num1 = int(input(\"Enter first number: \"))  \n",
    "num2 = int(input(\"Enter second number: \"))  \n",
    "print(\"The H.C.F. of\", num1,\"and\", num2,\"is\", hcf(num1, num2))"
   ]
  },
  {
   "cell_type": "code",
   "execution_count": 32,
   "id": "architectural-transcription",
   "metadata": {},
   "outputs": [
    {
     "name": "stdout",
     "output_type": "stream",
     "text": [
      "2021 is not a leap year\n"
     ]
    }
   ],
   "source": [
    "# Python program to check if year is a leap year or not\n",
    "\n",
    "year =2021\n",
    "\n",
    "# To get year (integer input) from the user\n",
    "# year = int(input(\"Enter a year: \"))\n",
    "\n",
    "if (year % 4) == 0:\n",
    "   if (year % 100) == 0:\n",
    "       if (year % 400) == 0:\n",
    "            print(\"{0} is a leap year\".format(year))\n",
    "       else:\n",
    "           print(\"{0} is not a leap year\".format(year))\n",
    "   else:\n",
    "       print(\"{0} is a leap year\".format(year))\n",
    "else:\n",
    "    print(\"{0} is not a leap year\".format(year))"
   ]
  },
  {
   "cell_type": "code",
   "execution_count": 35,
   "id": "metallic-title",
   "metadata": {},
   "outputs": [
    {
     "name": "stdout",
     "output_type": "stream",
     "text": [
      "Enter a year: 2021\n",
      "2021 is not a leap year\n"
     ]
    }
   ],
   "source": [
    "year = int(input(\"Enter a year: \"))  \n",
    "if (year % 4) == 0:  \n",
    "   if (year % 100) == 0:  \n",
    "       if (year % 400) == 0:  \n",
    "           print(\"{0} is a leap year\".format(year))  \n",
    "       else:  \n",
    "           print(\"{0} is not a leap year\".format(year))  \n",
    "   else:  \n",
    "       print(\"{0} is a leap year\".format(year))  \n",
    "else:  \n",
    "   print(\"{0} is not a leap year\".format(year))"
   ]
  },
  {
   "cell_type": "code",
   "execution_count": 45,
   "id": "modern-south",
   "metadata": {},
   "outputs": [
    {
     "name": "stdout",
     "output_type": "stream",
     "text": [
      "1998 is not a leap year.\n",
      "None\n"
     ]
    }
   ],
   "source": [
    "def leapyr(l):\n",
    "    if l%4==0 and l%100!=0:\n",
    "        if l%400==0:\n",
    "            print(l, \"is a leap year.\")\n",
    "    elif l%4!=0:\n",
    "        print(l, \"is not a leap year.\")\n",
    "print(leapyr(1998))"
   ]
  },
  {
   "cell_type": "code",
   "execution_count": 46,
   "id": "tested-designer",
   "metadata": {},
   "outputs": [
    {
     "name": "stdout",
     "output_type": "stream",
     "text": [
      "Largest element is: 99\n"
     ]
    }
   ],
   "source": [
    "# Python program to find largest\n",
    "# number in a list\n",
    "  \n",
    "# list of numbers\n",
    "list1 = [10, 20, 4, 45, 99]\n",
    "  \n",
    "  \n",
    "# printing the maximum element\n",
    "print(\"Largest element is:\", max(list1))"
   ]
  },
  {
   "cell_type": "code",
   "execution_count": 48,
   "id": "acknowledged-berkeley",
   "metadata": {},
   "outputs": [
    {
     "name": "stdout",
     "output_type": "stream",
     "text": [
      "Largest element is: 99\n"
     ]
    }
   ],
   "source": [
    "# Python program to find largest\n",
    "# number in a list\n",
    "  \n",
    "# list of numbers\n",
    "list1 = [10, 20, 4, 45, 99]\n",
    "  \n",
    "# sorting the list\n",
    "list1.sort()\n",
    "  \n",
    "# printing the last element\n",
    "print(\"Largest element is:\", list1[-1])"
   ]
  },
  {
   "cell_type": "code",
   "execution_count": 49,
   "id": "female-yorkshire",
   "metadata": {},
   "outputs": [
    {
     "name": "stdout",
     "output_type": "stream",
     "text": [
      "Enter number of elements in list: 12\n",
      "Enter elements: 23\n",
      "Enter elements: 45\n",
      "Enter elements: 67\n",
      "Enter elements: 98\n",
      "Enter elements: 90\n",
      "Enter elements: 76\n",
      "Enter elements: 56\n",
      "Enter elements: 12\n",
      "Enter elements: 89\n",
      "Enter elements: 09\n",
      "Enter elements: 11\n",
      "Enter elements: 24\n",
      "Largest element is: 98\n"
     ]
    }
   ],
   "source": [
    "# Python program to find largest\n",
    "# number in a list\n",
    "  \n",
    "# creating empty list\n",
    "list1 = []\n",
    "  \n",
    "# asking number of elements to put in list\n",
    "num = int(input(\"Enter number of elements in list: \"))\n",
    "  \n",
    "# iterating till num to append elements in list\n",
    "for i in range(1, num + 1):\n",
    "    ele = int(input(\"Enter elements: \"))\n",
    "    list1.append(ele)\n",
    "      \n",
    "# print maximum element\n",
    "print(\"Largest element is:\", max(list1))"
   ]
  },
  {
   "cell_type": "code",
   "execution_count": null,
   "id": "thousand-rotation",
   "metadata": {},
   "outputs": [],
   "source": []
  }
 ],
 "metadata": {
  "kernelspec": {
   "display_name": "Python 3",
   "language": "python",
   "name": "python3"
  },
  "language_info": {
   "codemirror_mode": {
    "name": "ipython",
    "version": 3
   },
   "file_extension": ".py",
   "mimetype": "text/x-python",
   "name": "python",
   "nbconvert_exporter": "python",
   "pygments_lexer": "ipython3",
   "version": "3.9.2"
  }
 },
 "nbformat": 4,
 "nbformat_minor": 5
}
